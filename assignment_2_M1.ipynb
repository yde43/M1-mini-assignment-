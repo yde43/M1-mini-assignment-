{
  "nbformat": 4,
  "nbformat_minor": 0,
  "metadata": {
    "colab": {
      "name": "assignment 2 M1",
      "version": "0.3.2",
      "provenance": [],
      "include_colab_link": true
    },
    "kernelspec": {
      "name": "python3",
      "display_name": "Python 3"
    }
  },
  "cells": [
    {
      "cell_type": "markdown",
      "metadata": {
        "id": "view-in-github",
        "colab_type": "text"
      },
      "source": [
        "<a href=\"https://colab.research.google.com/github/yde43/M1-mini-assignment-/blob/master/assignment_2_M1.ipynb\" target=\"_parent\"><img src=\"https://colab.research.google.com/assets/colab-badge.svg\" alt=\"Open In Colab\"/></a>"
      ]
    },
    {
      "cell_type": "markdown",
      "metadata": {
        "id": "ekcN0ZuB38QG",
        "colab_type": "text"
      },
      "source": [
        "# Task 1 \n",
        "\n",
        "a. Execute a PCA analysis on all ​numerical variables​ in the dataset. Hint: Don't forget to scale them before. Use 4 components. What is the cumulative explained variance ratio?\n",
        "\n",
        "\n",
        "in order to start analysing the Pokemon data, I fisrt need to import it. \n",
        "\n",
        "Then i will start going trough the PCA analysis. "
      ]
    },
    {
      "cell_type": "code",
      "metadata": {
        "id": "ej1FO1GR7C2J",
        "colab_type": "code",
        "colab": {
          "base_uri": "https://localhost:8080/",
          "height": 310
        },
        "outputId": "af74c570-d43f-4aed-ceb8-331731530201"
      },
      "source": [
        "#to start with i will import the things i am goind to need. \n",
        "\n",
        "import pandas as pd\n",
        "pd.set_option('display.float_format',lambda x: '%.3f'% x)\n",
        "\n",
        "import numpy as np\n",
        "!pip3 install seaborn==0.9.0\n",
        "\n",
        "import seaborn as sns\n",
        "#i also choose a style for seaborn\n",
        "sns.set_style('darkgrid')\n",
        "\n",
        "import matplotlib.pyplot as plt\n"
      ],
      "execution_count": 1,
      "outputs": [
        {
          "output_type": "stream",
          "text": [
            "Requirement already satisfied: seaborn==0.9.0 in /usr/local/lib/python3.6/dist-packages (0.9.0)\n",
            "Requirement already satisfied: pandas>=0.15.2 in /usr/local/lib/python3.6/dist-packages (from seaborn==0.9.0) (0.24.2)\n",
            "Requirement already satisfied: matplotlib>=1.4.3 in /usr/local/lib/python3.6/dist-packages (from seaborn==0.9.0) (3.0.3)\n",
            "Requirement already satisfied: scipy>=0.14.0 in /usr/local/lib/python3.6/dist-packages (from seaborn==0.9.0) (1.3.1)\n",
            "Requirement already satisfied: numpy>=1.9.3 in /usr/local/lib/python3.6/dist-packages (from seaborn==0.9.0) (1.16.5)\n",
            "Requirement already satisfied: pytz>=2011k in /usr/local/lib/python3.6/dist-packages (from pandas>=0.15.2->seaborn==0.9.0) (2018.9)\n",
            "Requirement already satisfied: python-dateutil>=2.5.0 in /usr/local/lib/python3.6/dist-packages (from pandas>=0.15.2->seaborn==0.9.0) (2.5.3)\n",
            "Requirement already satisfied: kiwisolver>=1.0.1 in /usr/local/lib/python3.6/dist-packages (from matplotlib>=1.4.3->seaborn==0.9.0) (1.1.0)\n",
            "Requirement already satisfied: pyparsing!=2.0.4,!=2.1.2,!=2.1.6,>=2.0.1 in /usr/local/lib/python3.6/dist-packages (from matplotlib>=1.4.3->seaborn==0.9.0) (2.4.2)\n",
            "Requirement already satisfied: cycler>=0.10 in /usr/local/lib/python3.6/dist-packages (from matplotlib>=1.4.3->seaborn==0.9.0) (0.10.0)\n",
            "Requirement already satisfied: six>=1.5 in /usr/local/lib/python3.6/dist-packages (from python-dateutil>=2.5.0->pandas>=0.15.2->seaborn==0.9.0) (1.12.0)\n",
            "Requirement already satisfied: setuptools in /usr/local/lib/python3.6/dist-packages (from kiwisolver>=1.0.1->matplotlib>=1.4.3->seaborn==0.9.0) (41.2.0)\n"
          ],
          "name": "stdout"
        }
      ]
    },
    {
      "cell_type": "code",
      "metadata": {
        "id": "KYdMWYp8-qSH",
        "colab_type": "code",
        "colab": {
          "base_uri": "https://localhost:8080/",
          "height": 289
        },
        "outputId": "445894bc-5080-4452-8091-761e1fec01e3"
      },
      "source": [
        "#now for the importing of the data\n",
        "poke= pd.read_csv('https://github.com/SDS-AAU/M1-2019/raw/master/data/pokemon.csv')\n",
        "\n",
        "poke.info()"
      ],
      "execution_count": 2,
      "outputs": [
        {
          "output_type": "stream",
          "text": [
            "<class 'pandas.core.frame.DataFrame'>\n",
            "RangeIndex: 800 entries, 0 to 799\n",
            "Data columns (total 11 columns):\n",
            "Number            800 non-null int64\n",
            "Name              800 non-null object\n",
            "Type1             800 non-null object\n",
            "HitPoints         800 non-null int64\n",
            "Attack            800 non-null int64\n",
            "Defense           800 non-null int64\n",
            "SpecialAttack     800 non-null int64\n",
            "SpecialDefense    800 non-null int64\n",
            "Speed             800 non-null int64\n",
            "Generation        800 non-null int64\n",
            "Legendary         800 non-null bool\n",
            "dtypes: bool(1), int64(8), object(2)\n",
            "memory usage: 63.4+ KB\n"
          ],
          "name": "stdout"
        }
      ]
    },
    {
      "cell_type": "markdown",
      "metadata": {
        "id": "SaG2DK447lli",
        "colab_type": "text"
      },
      "source": [
        "Since the data seems clear and ready to use i will go straight to the PCA part\n",
        "\n",
        "This also includes standardardising the data firt \n"
      ]
    },
    {
      "cell_type": "code",
      "metadata": {
        "id": "57Q9K4RA336z",
        "colab_type": "code",
        "colab": {}
      },
      "source": [
        "#inorder to use the data in PCA i first need to use a standardscaler to scale it\n",
        "#However, since type and name columns are objects i will create a data set with only numerical datasets\n",
        "poke_data=poke.loc[:,'HitPoints':'Generation']\n",
        "\n",
        "from sklearn.preprocessing import StandardScaler\n",
        "scaler = StandardScaler()\n",
        "\n",
        "poke_scales = scaler.fit_transform(poke_data)\n",
        "\n",
        "\n"
      ],
      "execution_count": 0,
      "outputs": []
    },
    {
      "cell_type": "code",
      "metadata": {
        "id": "8s3fvjyv8y-q",
        "colab_type": "code",
        "colab": {
          "base_uri": "https://localhost:8080/",
          "height": 297
        },
        "outputId": "60e638a6-c679-401e-be5c-d28798f0fabc"
      },
      "source": [
        "#just to get an overview over the data i print it out as a dataframe to see that everything is as it should be\n",
        "pd.DataFrame(poke_scales, columns=poke_data.columns).describe()"
      ],
      "execution_count": 4,
      "outputs": [
        {
          "output_type": "execute_result",
          "data": {
            "text/html": [
              "<div>\n",
              "<style scoped>\n",
              "    .dataframe tbody tr th:only-of-type {\n",
              "        vertical-align: middle;\n",
              "    }\n",
              "\n",
              "    .dataframe tbody tr th {\n",
              "        vertical-align: top;\n",
              "    }\n",
              "\n",
              "    .dataframe thead th {\n",
              "        text-align: right;\n",
              "    }\n",
              "</style>\n",
              "<table border=\"1\" class=\"dataframe\">\n",
              "  <thead>\n",
              "    <tr style=\"text-align: right;\">\n",
              "      <th></th>\n",
              "      <th>HitPoints</th>\n",
              "      <th>Attack</th>\n",
              "      <th>Defense</th>\n",
              "      <th>SpecialAttack</th>\n",
              "      <th>SpecialDefense</th>\n",
              "      <th>Speed</th>\n",
              "      <th>Generation</th>\n",
              "    </tr>\n",
              "  </thead>\n",
              "  <tbody>\n",
              "    <tr>\n",
              "      <th>count</th>\n",
              "      <td>800.000</td>\n",
              "      <td>800.000</td>\n",
              "      <td>800.000</td>\n",
              "      <td>800.000</td>\n",
              "      <td>800.000</td>\n",
              "      <td>800.000</td>\n",
              "      <td>800.000</td>\n",
              "    </tr>\n",
              "    <tr>\n",
              "      <th>mean</th>\n",
              "      <td>-0.000</td>\n",
              "      <td>-0.000</td>\n",
              "      <td>0.000</td>\n",
              "      <td>0.000</td>\n",
              "      <td>-0.000</td>\n",
              "      <td>-0.000</td>\n",
              "      <td>-0.000</td>\n",
              "    </tr>\n",
              "    <tr>\n",
              "      <th>std</th>\n",
              "      <td>1.001</td>\n",
              "      <td>1.001</td>\n",
              "      <td>1.001</td>\n",
              "      <td>1.001</td>\n",
              "      <td>1.001</td>\n",
              "      <td>1.001</td>\n",
              "      <td>1.001</td>\n",
              "    </tr>\n",
              "    <tr>\n",
              "      <th>min</th>\n",
              "      <td>-2.675</td>\n",
              "      <td>-2.281</td>\n",
              "      <td>-2.209</td>\n",
              "      <td>-1.921</td>\n",
              "      <td>-1.866</td>\n",
              "      <td>-2.179</td>\n",
              "      <td>-1.400</td>\n",
              "    </tr>\n",
              "    <tr>\n",
              "      <th>25%</th>\n",
              "      <td>-0.755</td>\n",
              "      <td>-0.740</td>\n",
              "      <td>-0.765</td>\n",
              "      <td>-0.705</td>\n",
              "      <td>-0.788</td>\n",
              "      <td>-0.802</td>\n",
              "      <td>-0.797</td>\n",
              "    </tr>\n",
              "    <tr>\n",
              "      <th>50%</th>\n",
              "      <td>-0.167</td>\n",
              "      <td>-0.123</td>\n",
              "      <td>-0.123</td>\n",
              "      <td>-0.239</td>\n",
              "      <td>-0.068</td>\n",
              "      <td>-0.113</td>\n",
              "      <td>-0.195</td>\n",
              "    </tr>\n",
              "    <tr>\n",
              "      <th>75%</th>\n",
              "      <td>0.421</td>\n",
              "      <td>0.647</td>\n",
              "      <td>0.518</td>\n",
              "      <td>0.678</td>\n",
              "      <td>0.651</td>\n",
              "      <td>0.748</td>\n",
              "      <td>1.010</td>\n",
              "    </tr>\n",
              "    <tr>\n",
              "      <th>max</th>\n",
              "      <td>7.279</td>\n",
              "      <td>3.422</td>\n",
              "      <td>5.011</td>\n",
              "      <td>3.706</td>\n",
              "      <td>5.685</td>\n",
              "      <td>3.847</td>\n",
              "      <td>1.612</td>\n",
              "    </tr>\n",
              "  </tbody>\n",
              "</table>\n",
              "</div>"
            ],
            "text/plain": [
              "       HitPoints  Attack  Defense  ...  SpecialDefense   Speed  Generation\n",
              "count    800.000 800.000  800.000  ...         800.000 800.000     800.000\n",
              "mean      -0.000  -0.000    0.000  ...          -0.000  -0.000      -0.000\n",
              "std        1.001   1.001    1.001  ...           1.001   1.001       1.001\n",
              "min       -2.675  -2.281   -2.209  ...          -1.866  -2.179      -1.400\n",
              "25%       -0.755  -0.740   -0.765  ...          -0.788  -0.802      -0.797\n",
              "50%       -0.167  -0.123   -0.123  ...          -0.068  -0.113      -0.195\n",
              "75%        0.421   0.647    0.518  ...           0.651   0.748       1.010\n",
              "max        7.279   3.422    5.011  ...           5.685   3.847       1.612\n",
              "\n",
              "[8 rows x 7 columns]"
            ]
          },
          "metadata": {
            "tags": []
          },
          "execution_count": 4
        }
      ]
    },
    {
      "cell_type": "code",
      "metadata": {
        "id": "TNl076JiLtmm",
        "colab_type": "code",
        "colab": {
          "base_uri": "https://localhost:8080/",
          "height": 34
        },
        "outputId": "c65fdf4e-98a0-436b-a6d6-5e92c5233f35"
      },
      "source": [
        "#now for the set up of the PCA analysis. i use 4 components since it is recomended in the assignment.\n",
        "from sklearn.decomposition import PCA\n",
        "\n",
        "pca=PCA(n_components=4)\n",
        "\n",
        "#in order to make the pca work, i fit and transform the scaled pokemons\n",
        "pca_pokes=pca.fit_transform(poke_scales)\n",
        "\n",
        "#Then i print out the sum of the variances\n",
        "pca.explained_variance_ratio_.sum()"
      ],
      "execution_count": 5,
      "outputs": [
        {
          "output_type": "execute_result",
          "data": {
            "text/plain": [
              "0.7980734261924607"
            ]
          },
          "metadata": {
            "tags": []
          },
          "execution_count": 5
        }
      ]
    },
    {
      "cell_type": "markdown",
      "metadata": {
        "id": "tsgfnrLfOsPo",
        "colab_type": "text"
      },
      "source": [
        "Now for the next question\n",
        "\n",
        "b. Perform a cluster analysis (either k-means or hierarchical clustering algorithm) on all numerical variables (scaled & before PCA). Apply the elbow method to determine a “pragmatic” number of clusters.\n",
        "\n",
        "i will try to answear this trough Kmeans and the elbow method"
      ]
    },
    {
      "cell_type": "code",
      "metadata": {
        "id": "Y6Sgvvi8MjOp",
        "colab_type": "code",
        "colab": {
          "base_uri": "https://localhost:8080/",
          "height": 286
        },
        "outputId": "5ded4da5-f736-45df-a679-ce5b4d2fe6ae"
      },
      "source": [
        "#firt i import the nessesary modules\n",
        "from sklearn.cluster import KMeans\n",
        "\n",
        "#and make a plot over the data \n",
        "inertia = []\n",
        "for i in range(1,11):\n",
        "  k_means = KMeans(n_clusters=i)\n",
        "  inertia.append(k_means.fit(poke_scales).inertia_)\n",
        "\n",
        "sns.lineplot(y = inertia, x = range(1,11))"
      ],
      "execution_count": 6,
      "outputs": [
        {
          "output_type": "execute_result",
          "data": {
            "text/plain": [
              "<matplotlib.axes._subplots.AxesSubplot at 0x7fef1f637d30>"
            ]
          },
          "metadata": {
            "tags": []
          },
          "execution_count": 6
        },
        {
          "output_type": "display_data",
          "data": {
            "image/png": "[encoded data removed]",
            "text/plain": [
              "<Figure size 432x288 with 1 Axes>"
            ]
          },
          "metadata": {
            "tags": []
          }
        }
      ]
    },
    {
      "cell_type": "code",
      "metadata": {
        "id": "FSXsmr5aQkkp",
        "colab_type": "code",
        "colab": {
          "base_uri": "https://localhost:8080/",
          "height": 68
        },
        "outputId": "d94ff4a0-1b3f-426d-f87a-782489613910"
      },
      "source": [
        "#Now i cluster the data since the elbow is visible at 2 components, i will use 2.\n",
        "\n",
        "clusterer = KMeans(n_clusters=2)\n",
        "clusterer.fit(poke_scales)"
      ],
      "execution_count": 7,
      "outputs": [
        {
          "output_type": "execute_result",
          "data": {
            "text/plain": [
              "KMeans(algorithm='auto', copy_x=True, init='k-means++', max_iter=300,\n",
              "       n_clusters=2, n_init=10, n_jobs=None, precompute_distances='auto',\n",
              "       random_state=None, tol=0.0001, verbose=0)"
            ]
          },
          "metadata": {
            "tags": []
          },
          "execution_count": 7
        }
      ]
    },
    {
      "cell_type": "code",
      "metadata": {
        "id": "yOs5pfuERDBc",
        "colab_type": "code",
        "colab": {
          "base_uri": "https://localhost:8080/",
          "height": 704
        },
        "outputId": "6c798695-cabc-4978-adcb-97ed9349e42b"
      },
      "source": [
        "# Now to plot in the points with coloring to get a visual\n",
        "\n",
        "plt.figure(figsize=(12,12))\n",
        "g = sns.scatterplot(poke_scales[:,0], poke_scales[:,1], hue=clusterer.labels_,\n",
        "               legend='full', palette='viridis')\n",
        "\n",
        "legend = g.get_legend()"
      ],
      "execution_count": 8,
      "outputs": [
        {
          "output_type": "display_data",
          "data": {
            "image/png": "[encoded data removed]",
            "text/plain": [
              "<Figure size 864x864 with 1 Axes>"
            ]
          },
          "metadata": {
            "tags": []
          }
        }
      ]
    },
    {
      "cell_type": "markdown",
      "metadata": {
        "id": "N_t-ZxcCSM6p",
        "colab_type": "text"
      },
      "source": [
        "c. Visualize the first 2 principal components and color the datapoints by cluster.\n",
        "\n",
        "in order to make a vizualizastion that show the 2 first principal components i do the following code."
      ]
    },
    {
      "cell_type": "code",
      "metadata": {
        "id": "AjIOQ300Zujh",
        "colab_type": "code",
        "colab": {
          "base_uri": "https://localhost:8080/",
          "height": 673
        },
        "outputId": "21c059e6-cc5a-4930-fba2-a2c3b9e7fc9f"
      },
      "source": [
        "plt.figure()\n",
        "plt.figure(figsize=(10,10))\n",
        "plt.xticks(fontsize=12)\n",
        "plt.yticks(fontsize=14)\n",
        "plt.xlabel('Principal Component - 1',fontsize=20)\n",
        "plt.ylabel('Principal Component - 2',fontsize=20)\n",
        "plt.title(\"Principal Component Analysis\",fontsize=20)\n",
        "targets = [0, 1]\n",
        "colors = ['r', 'g']\n",
        "#Here i make the code go trough the data, and assign colors to the data points. \n",
        "for target, color in zip(targets,colors):\n",
        "    indicesToKeep = clusterer.labels_ == target\n",
        "    plt.scatter(pca_pokes[indicesToKeep, 0]\n",
        "               , pca_pokes[indicesToKeep, 1], c = color, s = 50)\n",
        "\n",
        "plt.legend(targets,prop={'size': 15})"
      ],
      "execution_count": 9,
      "outputs": [
        {
          "output_type": "execute_result",
          "data": {
            "text/plain": [
              "<matplotlib.legend.Legend at 0x7fef1e952898>"
            ]
          },
          "metadata": {
            "tags": []
          },
          "execution_count": 9
        },
        {
          "output_type": "display_data",
          "data": {
            "text/plain": [
              "<Figure size 432x288 with 0 Axes>"
            ]
          },
          "metadata": {
            "tags": []
          }
        },
        {
          "output_type": "display_data",
          "data": {
            "image/png": "[encoded data removed]",
            "text/plain": [
              "<Figure size 720x720 with 1 Axes>"
            ]
          },
          "metadata": {
            "tags": []
          }
        }
      ]
    },
    {
      "cell_type": "markdown",
      "metadata": {
        "id": "HiBaAT7BdRSY",
        "colab_type": "text"
      },
      "source": [
        "d. Inspect the distribution of the variable “Type1” across clusters. Does the\n",
        "algorithm separate the different types of pokemon?\n",
        "\n"
      ]
    },
    {
      "cell_type": "code",
      "metadata": {
        "id": "dJK8MGxEmvme",
        "colab_type": "code",
        "colab": {
          "base_uri": "https://localhost:8080/",
          "height": 638
        },
        "outputId": "85712364-f5f6-4a36-8ee5-f768b46bd1ec"
      },
      "source": [
        "pd.crosstab(poke.Type1,clusterer.labels_,colnames=['Clusters'])"
      ],
      "execution_count": 10,
      "outputs": [
        {
          "output_type": "execute_result",
          "data": {
            "text/html": [
              "<div>\n",
              "<style scoped>\n",
              "    .dataframe tbody tr th:only-of-type {\n",
              "        vertical-align: middle;\n",
              "    }\n",
              "\n",
              "    .dataframe tbody tr th {\n",
              "        vertical-align: top;\n",
              "    }\n",
              "\n",
              "    .dataframe thead th {\n",
              "        text-align: right;\n",
              "    }\n",
              "</style>\n",
              "<table border=\"1\" class=\"dataframe\">\n",
              "  <thead>\n",
              "    <tr style=\"text-align: right;\">\n",
              "      <th>Clusters</th>\n",
              "      <th>0</th>\n",
              "      <th>1</th>\n",
              "    </tr>\n",
              "    <tr>\n",
              "      <th>Type1</th>\n",
              "      <th></th>\n",
              "      <th></th>\n",
              "    </tr>\n",
              "  </thead>\n",
              "  <tbody>\n",
              "    <tr>\n",
              "      <th>Bug</th>\n",
              "      <td>43</td>\n",
              "      <td>26</td>\n",
              "    </tr>\n",
              "    <tr>\n",
              "      <th>Dark</th>\n",
              "      <td>14</td>\n",
              "      <td>17</td>\n",
              "    </tr>\n",
              "    <tr>\n",
              "      <th>Dragon</th>\n",
              "      <td>9</td>\n",
              "      <td>23</td>\n",
              "    </tr>\n",
              "    <tr>\n",
              "      <th>Electric</th>\n",
              "      <td>18</td>\n",
              "      <td>26</td>\n",
              "    </tr>\n",
              "    <tr>\n",
              "      <th>Fairy</th>\n",
              "      <td>9</td>\n",
              "      <td>8</td>\n",
              "    </tr>\n",
              "    <tr>\n",
              "      <th>Fighting</th>\n",
              "      <td>12</td>\n",
              "      <td>15</td>\n",
              "    </tr>\n",
              "    <tr>\n",
              "      <th>Fire</th>\n",
              "      <td>23</td>\n",
              "      <td>29</td>\n",
              "    </tr>\n",
              "    <tr>\n",
              "      <th>Flying</th>\n",
              "      <td>1</td>\n",
              "      <td>3</td>\n",
              "    </tr>\n",
              "    <tr>\n",
              "      <th>Ghost</th>\n",
              "      <td>13</td>\n",
              "      <td>19</td>\n",
              "    </tr>\n",
              "    <tr>\n",
              "      <th>Grass</th>\n",
              "      <td>35</td>\n",
              "      <td>35</td>\n",
              "    </tr>\n",
              "    <tr>\n",
              "      <th>Ground</th>\n",
              "      <td>16</td>\n",
              "      <td>16</td>\n",
              "    </tr>\n",
              "    <tr>\n",
              "      <th>Ice</th>\n",
              "      <td>10</td>\n",
              "      <td>14</td>\n",
              "    </tr>\n",
              "    <tr>\n",
              "      <th>Normal</th>\n",
              "      <td>55</td>\n",
              "      <td>43</td>\n",
              "    </tr>\n",
              "    <tr>\n",
              "      <th>Poison</th>\n",
              "      <td>14</td>\n",
              "      <td>14</td>\n",
              "    </tr>\n",
              "    <tr>\n",
              "      <th>Psychic</th>\n",
              "      <td>21</td>\n",
              "      <td>36</td>\n",
              "    </tr>\n",
              "    <tr>\n",
              "      <th>Rock</th>\n",
              "      <td>20</td>\n",
              "      <td>24</td>\n",
              "    </tr>\n",
              "    <tr>\n",
              "      <th>Steel</th>\n",
              "      <td>8</td>\n",
              "      <td>19</td>\n",
              "    </tr>\n",
              "    <tr>\n",
              "      <th>Water</th>\n",
              "      <td>53</td>\n",
              "      <td>59</td>\n",
              "    </tr>\n",
              "  </tbody>\n",
              "</table>\n",
              "</div>"
            ],
            "text/plain": [
              "Clusters   0   1\n",
              "Type1           \n",
              "Bug       43  26\n",
              "Dark      14  17\n",
              "Dragon     9  23\n",
              "Electric  18  26\n",
              "Fairy      9   8\n",
              "Fighting  12  15\n",
              "Fire      23  29\n",
              "Flying     1   3\n",
              "Ghost     13  19\n",
              "Grass     35  35\n",
              "Ground    16  16\n",
              "Ice       10  14\n",
              "Normal    55  43\n",
              "Poison    14  14\n",
              "Psychic   21  36\n",
              "Rock      20  24\n",
              "Steel      8  19\n",
              "Water     53  59"
            ]
          },
          "metadata": {
            "tags": []
          },
          "execution_count": 10
        }
      ]
    },
    {
      "cell_type": "markdown",
      "metadata": {
        "id": "yqUfuOl6m053",
        "colab_type": "text"
      },
      "source": [
        "By using crosstab it becomes clear that the clusteres does not seperate different types."
      ]
    },
    {
      "cell_type": "markdown",
      "metadata": {
        "id": "0F6_ZCe1nBzQ",
        "colab_type": "text"
      },
      "source": [
        "# Task 2\n",
        "\n",
        "Your task will be to predict the variable “legendary”, indicating if the pokemon is a legendary one or not.\n",
        "\n",
        "a. Perform necessary ML preprocessing of your data if deemed necessary."
      ]
    },
    {
      "cell_type": "code",
      "metadata": {
        "id": "ZVN4sbR9oChk",
        "colab_type": "code",
        "colab": {}
      },
      "source": [
        "#First Type1 gets transformed into dummy variables in order to ease sorting.\n",
        "Type_dummy=pd.get_dummies(poke.Type1,drop_first=True)"
      ],
      "execution_count": 0,
      "outputs": []
    },
    {
      "cell_type": "code",
      "metadata": {
        "id": "WjLxf5gxt6Ix",
        "colab_type": "code",
        "colab": {
          "base_uri": "https://localhost:8080/",
          "height": 255
        },
        "outputId": "73e5051c-48b9-4b7c-991d-55eea87d81ad"
      },
      "source": [
        "#Then i sort the data into X, wich is the poke data and y wich is the legendary column\n",
        "\n",
        "X = pd.concat([poke.loc[:,'HitPoints':'Generation'],Type_dummy], axis=1, sort=False)\n",
        "print(X.head())\n",
        "\n",
        "y = poke.Legendary\n",
        "print(y.head())"
      ],
      "execution_count": 12,
      "outputs": [
        {
          "output_type": "stream",
          "text": [
            "   HitPoints  Attack  Defense  SpecialAttack  ...  Psychic  Rock  Steel  Water\n",
            "0         45      49       49             65  ...        0     0      0      0\n",
            "1         60      62       63             80  ...        0     0      0      0\n",
            "2         80      82       83            100  ...        0     0      0      0\n",
            "3         80     100      123            122  ...        0     0      0      0\n",
            "4         39      52       43             60  ...        0     0      0      0\n",
            "\n",
            "[5 rows x 24 columns]\n",
            "0    False\n",
            "1    False\n",
            "2    False\n",
            "3    False\n",
            "4    False\n",
            "Name: Legendary, dtype: bool\n"
          ],
          "name": "stdout"
        }
      ]
    },
    {
      "cell_type": "markdown",
      "metadata": {
        "id": "udDipoFmvG7n",
        "colab_type": "text"
      },
      "source": [
        "Then the y data gets made numerical instead of boolean in order to be used in the test sets later"
      ]
    },
    {
      "cell_type": "code",
      "metadata": {
        "id": "DnbSZ7o-uDbk",
        "colab_type": "code",
        "colab": {}
      },
      "source": [
        "from sklearn.preprocessing import LabelEncoder\n",
        "encoder = LabelEncoder()\n",
        "y_enc = encoder.fit_transform(y)"
      ],
      "execution_count": 0,
      "outputs": []
    },
    {
      "cell_type": "code",
      "metadata": {
        "id": "zr1_4W8QvTGK",
        "colab_type": "code",
        "colab": {
          "base_uri": "https://localhost:8080/",
          "height": 337
        },
        "outputId": "234152f0-f706-4246-fbd4-9987d99bc09d"
      },
      "source": [
        "#fitting and scaling X, and lastly checking the data\n",
        "from sklearn.preprocessing import StandardScaler\n",
        "scaler = StandardScaler()\n",
        "X_scaled = scaler.fit_transform(X)\n",
        "pd.DataFrame(X_scaled, columns=X.columns).describe()"
      ],
      "execution_count": 14,
      "outputs": [
        {
          "output_type": "execute_result",
          "data": {
            "text/html": [
              "<div>\n",
              "<style scoped>\n",
              "    .dataframe tbody tr th:only-of-type {\n",
              "        vertical-align: middle;\n",
              "    }\n",
              "\n",
              "    .dataframe tbody tr th {\n",
              "        vertical-align: top;\n",
              "    }\n",
              "\n",
              "    .dataframe thead th {\n",
              "        text-align: right;\n",
              "    }\n",
              "</style>\n",
              "<table border=\"1\" class=\"dataframe\">\n",
              "  <thead>\n",
              "    <tr style=\"text-align: right;\">\n",
              "      <th></th>\n",
              "      <th>HitPoints</th>\n",
              "      <th>Attack</th>\n",
              "      <th>Defense</th>\n",
              "      <th>SpecialAttack</th>\n",
              "      <th>SpecialDefense</th>\n",
              "      <th>Speed</th>\n",
              "      <th>Generation</th>\n",
              "      <th>Dark</th>\n",
              "      <th>Dragon</th>\n",
              "      <th>Electric</th>\n",
              "      <th>Fairy</th>\n",
              "      <th>Fighting</th>\n",
              "      <th>Fire</th>\n",
              "      <th>Flying</th>\n",
              "      <th>Ghost</th>\n",
              "      <th>Grass</th>\n",
              "      <th>Ground</th>\n",
              "      <th>Ice</th>\n",
              "      <th>Normal</th>\n",
              "      <th>Poison</th>\n",
              "      <th>Psychic</th>\n",
              "      <th>Rock</th>\n",
              "      <th>Steel</th>\n",
              "      <th>Water</th>\n",
              "    </tr>\n",
              "  </thead>\n",
              "  <tbody>\n",
              "    <tr>\n",
              "      <th>count</th>\n",
              "      <td>800.000</td>\n",
              "      <td>800.000</td>\n",
              "      <td>800.000</td>\n",
              "      <td>800.000</td>\n",
              "      <td>800.000</td>\n",
              "      <td>800.000</td>\n",
              "      <td>800.000</td>\n",
              "      <td>800.000</td>\n",
              "      <td>800.000</td>\n",
              "      <td>800.000</td>\n",
              "      <td>800.000</td>\n",
              "      <td>800.000</td>\n",
              "      <td>800.000</td>\n",
              "      <td>800.000</td>\n",
              "      <td>800.000</td>\n",
              "      <td>800.000</td>\n",
              "      <td>800.000</td>\n",
              "      <td>800.000</td>\n",
              "      <td>800.000</td>\n",
              "      <td>800.000</td>\n",
              "      <td>800.000</td>\n",
              "      <td>800.000</td>\n",
              "      <td>800.000</td>\n",
              "      <td>800.000</td>\n",
              "    </tr>\n",
              "    <tr>\n",
              "      <th>mean</th>\n",
              "      <td>-0.000</td>\n",
              "      <td>-0.000</td>\n",
              "      <td>0.000</td>\n",
              "      <td>0.000</td>\n",
              "      <td>-0.000</td>\n",
              "      <td>-0.000</td>\n",
              "      <td>-0.000</td>\n",
              "      <td>0.000</td>\n",
              "      <td>0.000</td>\n",
              "      <td>-0.000</td>\n",
              "      <td>0.000</td>\n",
              "      <td>-0.000</td>\n",
              "      <td>-0.000</td>\n",
              "      <td>0.000</td>\n",
              "      <td>0.000</td>\n",
              "      <td>-0.000</td>\n",
              "      <td>-0.000</td>\n",
              "      <td>-0.000</td>\n",
              "      <td>-0.000</td>\n",
              "      <td>-0.000</td>\n",
              "      <td>-0.000</td>\n",
              "      <td>0.000</td>\n",
              "      <td>-0.000</td>\n",
              "      <td>-0.000</td>\n",
              "    </tr>\n",
              "    <tr>\n",
              "      <th>std</th>\n",
              "      <td>1.001</td>\n",
              "      <td>1.001</td>\n",
              "      <td>1.001</td>\n",
              "      <td>1.001</td>\n",
              "      <td>1.001</td>\n",
              "      <td>1.001</td>\n",
              "      <td>1.001</td>\n",
              "      <td>1.001</td>\n",
              "      <td>1.001</td>\n",
              "      <td>1.001</td>\n",
              "      <td>1.001</td>\n",
              "      <td>1.001</td>\n",
              "      <td>1.001</td>\n",
              "      <td>1.001</td>\n",
              "      <td>1.001</td>\n",
              "      <td>1.001</td>\n",
              "      <td>1.001</td>\n",
              "      <td>1.001</td>\n",
              "      <td>1.001</td>\n",
              "      <td>1.001</td>\n",
              "      <td>1.001</td>\n",
              "      <td>1.001</td>\n",
              "      <td>1.001</td>\n",
              "      <td>1.001</td>\n",
              "    </tr>\n",
              "    <tr>\n",
              "      <th>min</th>\n",
              "      <td>-2.675</td>\n",
              "      <td>-2.281</td>\n",
              "      <td>-2.209</td>\n",
              "      <td>-1.921</td>\n",
              "      <td>-1.866</td>\n",
              "      <td>-2.179</td>\n",
              "      <td>-1.400</td>\n",
              "      <td>-0.201</td>\n",
              "      <td>-0.204</td>\n",
              "      <td>-0.241</td>\n",
              "      <td>-0.147</td>\n",
              "      <td>-0.187</td>\n",
              "      <td>-0.264</td>\n",
              "      <td>-0.071</td>\n",
              "      <td>-0.204</td>\n",
              "      <td>-0.310</td>\n",
              "      <td>-0.204</td>\n",
              "      <td>-0.176</td>\n",
              "      <td>-0.374</td>\n",
              "      <td>-0.190</td>\n",
              "      <td>-0.277</td>\n",
              "      <td>-0.241</td>\n",
              "      <td>-0.187</td>\n",
              "      <td>-0.403</td>\n",
              "    </tr>\n",
              "    <tr>\n",
              "      <th>25%</th>\n",
              "      <td>-0.755</td>\n",
              "      <td>-0.740</td>\n",
              "      <td>-0.765</td>\n",
              "      <td>-0.705</td>\n",
              "      <td>-0.788</td>\n",
              "      <td>-0.802</td>\n",
              "      <td>-0.797</td>\n",
              "      <td>-0.201</td>\n",
              "      <td>-0.204</td>\n",
              "      <td>-0.241</td>\n",
              "      <td>-0.147</td>\n",
              "      <td>-0.187</td>\n",
              "      <td>-0.264</td>\n",
              "      <td>-0.071</td>\n",
              "      <td>-0.204</td>\n",
              "      <td>-0.310</td>\n",
              "      <td>-0.204</td>\n",
              "      <td>-0.176</td>\n",
              "      <td>-0.374</td>\n",
              "      <td>-0.190</td>\n",
              "      <td>-0.277</td>\n",
              "      <td>-0.241</td>\n",
              "      <td>-0.187</td>\n",
              "      <td>-0.403</td>\n",
              "    </tr>\n",
              "    <tr>\n",
              "      <th>50%</th>\n",
              "      <td>-0.167</td>\n",
              "      <td>-0.123</td>\n",
              "      <td>-0.123</td>\n",
              "      <td>-0.239</td>\n",
              "      <td>-0.068</td>\n",
              "      <td>-0.113</td>\n",
              "      <td>-0.195</td>\n",
              "      <td>-0.201</td>\n",
              "      <td>-0.204</td>\n",
              "      <td>-0.241</td>\n",
              "      <td>-0.147</td>\n",
              "      <td>-0.187</td>\n",
              "      <td>-0.264</td>\n",
              "      <td>-0.071</td>\n",
              "      <td>-0.204</td>\n",
              "      <td>-0.310</td>\n",
              "      <td>-0.204</td>\n",
              "      <td>-0.176</td>\n",
              "      <td>-0.374</td>\n",
              "      <td>-0.190</td>\n",
              "      <td>-0.277</td>\n",
              "      <td>-0.241</td>\n",
              "      <td>-0.187</td>\n",
              "      <td>-0.403</td>\n",
              "    </tr>\n",
              "    <tr>\n",
              "      <th>75%</th>\n",
              "      <td>0.421</td>\n",
              "      <td>0.647</td>\n",
              "      <td>0.518</td>\n",
              "      <td>0.678</td>\n",
              "      <td>0.651</td>\n",
              "      <td>0.748</td>\n",
              "      <td>1.010</td>\n",
              "      <td>-0.201</td>\n",
              "      <td>-0.204</td>\n",
              "      <td>-0.241</td>\n",
              "      <td>-0.147</td>\n",
              "      <td>-0.187</td>\n",
              "      <td>-0.264</td>\n",
              "      <td>-0.071</td>\n",
              "      <td>-0.204</td>\n",
              "      <td>-0.310</td>\n",
              "      <td>-0.204</td>\n",
              "      <td>-0.176</td>\n",
              "      <td>-0.374</td>\n",
              "      <td>-0.190</td>\n",
              "      <td>-0.277</td>\n",
              "      <td>-0.241</td>\n",
              "      <td>-0.187</td>\n",
              "      <td>-0.403</td>\n",
              "    </tr>\n",
              "    <tr>\n",
              "      <th>max</th>\n",
              "      <td>7.279</td>\n",
              "      <td>3.422</td>\n",
              "      <td>5.011</td>\n",
              "      <td>3.706</td>\n",
              "      <td>5.685</td>\n",
              "      <td>3.847</td>\n",
              "      <td>1.612</td>\n",
              "      <td>4.981</td>\n",
              "      <td>4.899</td>\n",
              "      <td>4.145</td>\n",
              "      <td>6.787</td>\n",
              "      <td>5.351</td>\n",
              "      <td>3.793</td>\n",
              "      <td>14.107</td>\n",
              "      <td>4.899</td>\n",
              "      <td>3.229</td>\n",
              "      <td>4.899</td>\n",
              "      <td>5.686</td>\n",
              "      <td>2.676</td>\n",
              "      <td>5.251</td>\n",
              "      <td>3.610</td>\n",
              "      <td>4.145</td>\n",
              "      <td>5.351</td>\n",
              "      <td>2.478</td>\n",
              "    </tr>\n",
              "  </tbody>\n",
              "</table>\n",
              "</div>"
            ],
            "text/plain": [
              "       HitPoints  Attack  Defense  ...    Rock   Steel   Water\n",
              "count    800.000 800.000  800.000  ... 800.000 800.000 800.000\n",
              "mean      -0.000  -0.000    0.000  ...   0.000  -0.000  -0.000\n",
              "std        1.001   1.001    1.001  ...   1.001   1.001   1.001\n",
              "min       -2.675  -2.281   -2.209  ...  -0.241  -0.187  -0.403\n",
              "25%       -0.755  -0.740   -0.765  ...  -0.241  -0.187  -0.403\n",
              "50%       -0.167  -0.123   -0.123  ...  -0.241  -0.187  -0.403\n",
              "75%        0.421   0.647    0.518  ...  -0.241  -0.187  -0.403\n",
              "max        7.279   3.422    5.011  ...   4.145   5.351   2.478\n",
              "\n",
              "[8 rows x 24 columns]"
            ]
          },
          "metadata": {
            "tags": []
          },
          "execution_count": 14
        }
      ]
    },
    {
      "cell_type": "markdown",
      "metadata": {
        "id": "tV7zTxC-vk5Q",
        "colab_type": "text"
      },
      "source": [
        "b. Split the data in a training (75%) and test (25%) dataset.\n",
        "\n",
        "in order to split the data, i will use the train_test_split function"
      ]
    },
    {
      "cell_type": "code",
      "metadata": {
        "id": "Pd2wZ0_vvgK1",
        "colab_type": "code",
        "colab": {}
      },
      "source": [
        "from sklearn.model_selection import train_test_split\n",
        "X_train, X_test, y_train, y_test = train_test_split(X_scaled, y_enc, test_size = 0.25, random_state = 42)\n",
        "\n"
      ],
      "execution_count": 0,
      "outputs": []
    },
    {
      "cell_type": "markdown",
      "metadata": {
        "id": "dUv3UhXVwMQm",
        "colab_type": "text"
      },
      "source": [
        "c. Define a n-fold cross-validation workflow for your model testing."
      ]
    },
    {
      "cell_type": "code",
      "metadata": {
        "id": "IrdIW3fmwO55",
        "colab_type": "code",
        "colab": {}
      },
      "source": [
        "from sklearn.model_selection import cross_val_score\n",
        "# later the following code will be used in the testing scores = cross_val_score(model, X_train, y_train, cv = 5)"
      ],
      "execution_count": 0,
      "outputs": []
    },
    {
      "cell_type": "markdown",
      "metadata": {
        "id": "pPVYyX7Pwee7",
        "colab_type": "text"
      },
      "source": [
        "d. Fit three separate models on your training data, where you predict the\n",
        "“legendary” variable. Use a 1. Logistic regression, 2. Decision tree, and 3.\n",
        "another algorithm of choice to do so.\n",
        "\n",
        "First i will do the logisticregression"
      ]
    },
    {
      "cell_type": "code",
      "metadata": {
        "id": "Rg5iWIPIxiwq",
        "colab_type": "code",
        "colab": {
          "base_uri": "https://localhost:8080/",
          "height": 34
        },
        "outputId": "45d5a132-2ac5-468b-fc0d-3f9dfaee5cee"
      },
      "source": [
        "from sklearn.linear_model import LogisticRegression\n",
        "LogReg = LogisticRegression(solver='lbfgs') #Specified solver to silence a warning.\n",
        "LogReg.fit(X_train, y_train)\n",
        "print(np.mean(cross_val_score(LogReg, X_train, y_train, cv = 5)))"
      ],
      "execution_count": 17,
      "outputs": [
        {
          "output_type": "stream",
          "text": [
            "0.9483445609648818\n"
          ],
          "name": "stdout"
        }
      ]
    },
    {
      "cell_type": "code",
      "metadata": {
        "id": "FTnB1C0Yxo0s",
        "colab_type": "code",
        "colab": {
          "base_uri": "https://localhost:8080/",
          "height": 34
        },
        "outputId": "e7ccb027-a3d3-419e-a137-beece318e785"
      },
      "source": [
        "#Now for the Decision tree\n",
        "from sklearn.tree import DecisionTreeClassifier\n",
        "Tree = DecisionTreeClassifier()\n",
        "Tree.fit(X_train, y_train)\n",
        "print(np.mean(cross_val_score(Tree, X_train, y_train, cv = 5)))"
      ],
      "execution_count": 18,
      "outputs": [
        {
          "output_type": "stream",
          "text": [
            "0.9116482626108295\n"
          ],
          "name": "stdout"
        }
      ]
    },
    {
      "cell_type": "code",
      "metadata": {
        "id": "hMTduShJyPhv",
        "colab_type": "code",
        "colab": {
          "base_uri": "https://localhost:8080/",
          "height": 108
        },
        "outputId": "c20b9ef5-2e4f-4376-b652-1b8635f8adcf"
      },
      "source": [
        "#The last model that gets used is RandomForestClassifier\n",
        "from sklearn.ensemble import RandomForestClassifier\n",
        "\n",
        "Forest = RandomForestClassifier()\n",
        "\n",
        "Forest.fit(X_train,y_train)\n",
        "print(np.mean(cross_val_score(Forest, X_train, y_train, cv = 5)))"
      ],
      "execution_count": 19,
      "outputs": [
        {
          "output_type": "stream",
          "text": [
            "0.9366771998055421\n"
          ],
          "name": "stdout"
        },
        {
          "output_type": "stream",
          "text": [
            "/usr/local/lib/python3.6/dist-packages/sklearn/ensemble/forest.py:245: FutureWarning: The default value of n_estimators will change from 10 in version 0.20 to 100 in 0.22.\n",
            "  \"10 in version 0.20 to 100 in 0.22.\", FutureWarning)\n"
          ],
          "name": "stderr"
        }
      ]
    },
    {
      "cell_type": "markdown",
      "metadata": {
        "id": "eeyWIRUB0oSh",
        "colab_type": "text"
      },
      "source": [
        "when examining the result of the three tests, it can be seen, that the logisticregression gave the best result, followed by the randomForest and last the Decision Tree"
      ]
    },
    {
      "cell_type": "markdown",
      "metadata": {
        "id": "zsZ7AYSs079e",
        "colab_type": "text"
      },
      "source": [
        "e. Use the fitted models to predict the “legendary” variable in your test data.\n",
        "\n"
      ]
    },
    {
      "cell_type": "code",
      "metadata": {
        "id": "Ho2DUQnJ07ov",
        "colab_type": "code",
        "colab": {}
      },
      "source": [
        "#Here the predictions made gets saved for later use in the visualizations\n",
        "y_pred_LogReg = LogReg.predict(X_test)\n",
        "y_pred_Tree = Tree.predict(X_test)\n",
        "y_pred_For = Forest.predict(X_test)"
      ],
      "execution_count": 0,
      "outputs": []
    },
    {
      "cell_type": "markdown",
      "metadata": {
        "id": "5qZKWXKj4H79",
        "colab_type": "text"
      },
      "source": [
        "f. Evaluate the performance of these 3 models by comparing the predicted and the true values of “legendary” in the test data. To do so, also create a confusion matrix.\n",
        "\n",
        "when using this matrix i will print the true positive rate, since there is a lot more non-legendary than legendary"
      ]
    },
    {
      "cell_type": "code",
      "metadata": {
        "id": "c5jiqAEG0nkA",
        "colab_type": "code",
        "colab": {
          "base_uri": "https://localhost:8080/",
          "height": 446
        },
        "outputId": "04674f81-5ded-4cbb-c128-cd22758f9ef5"
      },
      "source": [
        "!pip install -U mlxtend\n",
        "\n",
        "from sklearn.metrics import confusion_matrix\n",
        "from mlxtend.plotting import plot_confusion_matrix\n"
      ],
      "execution_count": 21,
      "outputs": [
        {
          "output_type": "stream",
          "text": [
            "Collecting mlxtend\n",
            "\u001b[?25l  Downloading https://files.pythonhosted.org/packages/52/04/c362f34f666f0ddc7cf593805e64d64fa670ed96fd9302e68549dd48287d/mlxtend-0.17.0-py2.py3-none-any.whl (1.3MB)\n",
            "\r\u001b[K     |▎                               | 10kB 13.9MB/s eta 0:00:01\r\u001b[K     |▌                               | 20kB 3.3MB/s eta 0:00:01\r\u001b[K     |▊                               | 30kB 4.7MB/s eta 0:00:01\r\u001b[K     |█                               | 40kB 3.0MB/s eta 0:00:01\r\u001b[K     |█▎                              | 51kB 3.7MB/s eta 0:00:01\r\u001b[K     |█▌                              | 61kB 4.4MB/s eta 0:00:01\r\u001b[K     |█▊                              | 71kB 5.1MB/s eta 0:00:01\r\u001b[K     |██                              | 81kB 5.7MB/s eta 0:00:01\r\u001b[K     |██▏                             | 92kB 6.4MB/s eta 0:00:01\r\u001b[K     |██▌                             | 102kB 4.9MB/s eta 0:00:01\r\u001b[K     |██▊                             | 112kB 4.9MB/s eta 0:00:01\r\u001b[K     |███                             | 122kB 4.9MB/s eta 0:00:01\r\u001b[K     |███▏                            | 133kB 4.9MB/s eta 0:00:01\r\u001b[K     |███▍                            | 143kB 4.9MB/s eta 0:00:01\r\u001b[K     |███▊                            | 153kB 4.9MB/s eta 0:00:01\r\u001b[K     |████                            | 163kB 4.9MB/s eta 0:00:01\r\u001b[K     |████▏                           | 174kB 4.9MB/s eta 0:00:01\r\u001b[K     |████▍                           | 184kB 4.9MB/s eta 0:00:01\r\u001b[K     |████▊                           | 194kB 4.9MB/s eta 0:00:01\r\u001b[K     |█████                           | 204kB 4.9MB/s eta 0:00:01\r\u001b[K     |█████▏                          | 215kB 4.9MB/s eta 0:00:01\r\u001b[K     |█████▍                          | 225kB 4.9MB/s eta 0:00:01\r\u001b[K     |█████▋                          | 235kB 4.9MB/s eta 0:00:01\r\u001b[K     |██████                          | 245kB 4.9MB/s eta 0:00:01\r\u001b[K     |██████▏                         | 256kB 4.9MB/s eta 0:00:01\r\u001b[K     |██████▍                         | 266kB 4.9MB/s eta 0:00:01\r\u001b[K     |██████▋                         | 276kB 4.9MB/s eta 0:00:01\r\u001b[K     |██████▉                         | 286kB 4.9MB/s eta 0:00:01\r\u001b[K     |███████▏                        | 296kB 4.9MB/s eta 0:00:01\r\u001b[K     |███████▍                        | 307kB 4.9MB/s eta 0:00:01\r\u001b[K     |███████▋                        | 317kB 4.9MB/s eta 0:00:01\r\u001b[K     |███████▉                        | 327kB 4.9MB/s eta 0:00:01\r\u001b[K     |████████                        | 337kB 4.9MB/s eta 0:00:01\r\u001b[K     |████████▍                       | 348kB 4.9MB/s eta 0:00:01\r\u001b[K     |████████▋                       | 358kB 4.9MB/s eta 0:00:01\r\u001b[K     |████████▉                       | 368kB 4.9MB/s eta 0:00:01\r\u001b[K     |█████████                       | 378kB 4.9MB/s eta 0:00:01\r\u001b[K     |█████████▍                      | 389kB 4.9MB/s eta 0:00:01\r\u001b[K     |█████████▋                      | 399kB 4.9MB/s eta 0:00:01\r\u001b[K     |█████████▉                      | 409kB 4.9MB/s eta 0:00:01\r\u001b[K     |██████████                      | 419kB 4.9MB/s eta 0:00:01\r\u001b[K     |██████████▎                     | 430kB 4.9MB/s eta 0:00:01\r\u001b[K     |██████████▋                     | 440kB 4.9MB/s eta 0:00:01\r\u001b[K     |██████████▉                     | 450kB 4.9MB/s eta 0:00:01\r\u001b[K     |███████████                     | 460kB 4.9MB/s eta 0:00:01\r\u001b[K     |███████████▎                    | 471kB 4.9MB/s eta 0:00:01\r\u001b[K     |███████████▌                    | 481kB 4.9MB/s eta 0:00:01\r\u001b[K     |███████████▉                    | 491kB 4.9MB/s eta 0:00:01\r\u001b[K     |████████████                    | 501kB 4.9MB/s eta 0:00:01\r\u001b[K     |████████████▎                   | 512kB 4.9MB/s eta 0:00:01\r\u001b[K     |████████████▌                   | 522kB 4.9MB/s eta 0:00:01\r\u001b[K     |████████████▊                   | 532kB 4.9MB/s eta 0:00:01\r\u001b[K     |█████████████                   | 542kB 4.9MB/s eta 0:00:01\r\u001b[K     |█████████████▎                  | 552kB 4.9MB/s eta 0:00:01\r\u001b[K     |█████████████▌                  | 563kB 4.9MB/s eta 0:00:01\r\u001b[K     |█████████████▊                  | 573kB 4.9MB/s eta 0:00:01\r\u001b[K     |██████████████                  | 583kB 4.9MB/s eta 0:00:01\r\u001b[K     |██████████████▎                 | 593kB 4.9MB/s eta 0:00:01\r\u001b[K     |██████████████▌                 | 604kB 4.9MB/s eta 0:00:01\r\u001b[K     |██████████████▊                 | 614kB 4.9MB/s eta 0:00:01\r\u001b[K     |███████████████                 | 624kB 4.9MB/s eta 0:00:01\r\u001b[K     |███████████████▎                | 634kB 4.9MB/s eta 0:00:01\r\u001b[K     |███████████████▌                | 645kB 4.9MB/s eta 0:00:01\r\u001b[K     |███████████████▊                | 655kB 4.9MB/s eta 0:00:01\r\u001b[K     |████████████████                | 665kB 4.9MB/s eta 0:00:01\r\u001b[K     |████████████████▏               | 675kB 4.9MB/s eta 0:00:01\r\u001b[K     |████████████████▌               | 686kB 4.9MB/s eta 0:00:01\r\u001b[K     |████████████████▊               | 696kB 4.9MB/s eta 0:00:01\r\u001b[K     |█████████████████               | 706kB 4.9MB/s eta 0:00:01\r\u001b[K     |█████████████████▏              | 716kB 4.9MB/s eta 0:00:01\r\u001b[K     |█████████████████▍              | 727kB 4.9MB/s eta 0:00:01\r\u001b[K     |█████████████████▊              | 737kB 4.9MB/s eta 0:00:01\r\u001b[K     |██████████████████              | 747kB 4.9MB/s eta 0:00:01\r\u001b[K     |██████████████████▏             | 757kB 4.9MB/s eta 0:00:01\r\u001b[K     |██████████████████▍             | 768kB 4.9MB/s eta 0:00:01\r\u001b[K     |██████████████████▊             | 778kB 4.9MB/s eta 0:00:01\r\u001b[K     |███████████████████             | 788kB 4.9MB/s eta 0:00:01\r\u001b[K     |███████████████████▏            | 798kB 4.9MB/s eta 0:00:01\r\u001b[K     |███████████████████▍            | 808kB 4.9MB/s eta 0:00:01\r\u001b[K     |███████████████████▋            | 819kB 4.9MB/s eta 0:00:01\r\u001b[K     |████████████████████            | 829kB 4.9MB/s eta 0:00:01\r\u001b[K     |████████████████████▏           | 839kB 4.9MB/s eta 0:00:01\r\u001b[K     |████████████████████▍           | 849kB 4.9MB/s eta 0:00:01\r\u001b[K     |████████████████████▋           | 860kB 4.9MB/s eta 0:00:01\r\u001b[K     |████████████████████▉           | 870kB 4.9MB/s eta 0:00:01\r\u001b[K     |█████████████████████▏          | 880kB 4.9MB/s eta 0:00:01\r\u001b[K     |█████████████████████▍          | 890kB 4.9MB/s eta 0:00:01\r\u001b[K     |█████████████████████▋          | 901kB 4.9MB/s eta 0:00:01\r\u001b[K     |█████████████████████▉          | 911kB 4.9MB/s eta 0:00:01\r\u001b[K     |██████████████████████          | 921kB 4.9MB/s eta 0:00:01\r\u001b[K     |██████████████████████▍         | 931kB 4.9MB/s eta 0:00:01\r\u001b[K     |██████████████████████▋         | 942kB 4.9MB/s eta 0:00:01\r\u001b[K     |██████████████████████▉         | 952kB 4.9MB/s eta 0:00:01\r\u001b[K     |███████████████████████         | 962kB 4.9MB/s eta 0:00:01\r\u001b[K     |███████████████████████▍        | 972kB 4.9MB/s eta 0:00:01\r\u001b[K     |███████████████████████▋        | 983kB 4.9MB/s eta 0:00:01\r\u001b[K     |███████████████████████▉        | 993kB 4.9MB/s eta 0:00:01\r\u001b[K     |████████████████████████        | 1.0MB 4.9MB/s eta 0:00:01\r\u001b[K     |████████████████████████▎       | 1.0MB 4.9MB/s eta 0:00:01\r\u001b[K     |████████████████████████▋       | 1.0MB 4.9MB/s eta 0:00:01\r\u001b[K     |████████████████████████▉       | 1.0MB 4.9MB/s eta 0:00:01\r\u001b[K     |█████████████████████████       | 1.0MB 4.9MB/s eta 0:00:01\r\u001b[K     |█████████████████████████▎      | 1.1MB 4.9MB/s eta 0:00:01\r\u001b[K     |█████████████████████████▌      | 1.1MB 4.9MB/s eta 0:00:01\r\u001b[K     |█████████████████████████▉      | 1.1MB 4.9MB/s eta 0:00:01\r\u001b[K     |██████████████████████████      | 1.1MB 4.9MB/s eta 0:00:01\r\u001b[K     |██████████████████████████▎     | 1.1MB 4.9MB/s eta 0:00:01\r\u001b[K     |██████████████████████████▌     | 1.1MB 4.9MB/s eta 0:00:01\r\u001b[K     |██████████████████████████▊     | 1.1MB 4.9MB/s eta 0:00:01\r\u001b[K     |███████████████████████████     | 1.1MB 4.9MB/s eta 0:00:01\r\u001b[K     |███████████████████████████▎    | 1.1MB 4.9MB/s eta 0:00:01\r\u001b[K     |███████████████████████████▌    | 1.1MB 4.9MB/s eta 0:00:01\r\u001b[K     |███████████████████████████▊    | 1.2MB 4.9MB/s eta 0:00:01\r\u001b[K     |████████████████████████████    | 1.2MB 4.9MB/s eta 0:00:01\r\u001b[K     |████████████████████████████▎   | 1.2MB 4.9MB/s eta 0:00:01\r\u001b[K     |████████████████████████████▌   | 1.2MB 4.9MB/s eta 0:00:01\r\u001b[K     |████████████████████████████▊   | 1.2MB 4.9MB/s eta 0:00:01\r\u001b[K     |█████████████████████████████   | 1.2MB 4.9MB/s eta 0:00:01\r\u001b[K     |█████████████████████████████▎  | 1.2MB 4.9MB/s eta 0:00:01\r\u001b[K     |█████████████████████████████▌  | 1.2MB 4.9MB/s eta 0:00:01\r\u001b[K     |█████████████████████████████▊  | 1.2MB 4.9MB/s eta 0:00:01\r\u001b[K     |██████████████████████████████  | 1.2MB 4.9MB/s eta 0:00:01\r\u001b[K     |██████████████████████████████▏ | 1.3MB 4.9MB/s eta 0:00:01\r\u001b[K     |██████████████████████████████▌ | 1.3MB 4.9MB/s eta 0:00:01\r\u001b[K     |██████████████████████████████▊ | 1.3MB 4.9MB/s eta 0:00:01\r\u001b[K     |███████████████████████████████ | 1.3MB 4.9MB/s eta 0:00:01\r\u001b[K     |███████████████████████████████▏| 1.3MB 4.9MB/s eta 0:00:01\r\u001b[K     |███████████████████████████████▌| 1.3MB 4.9MB/s eta 0:00:01\r\u001b[K     |███████████████████████████████▊| 1.3MB 4.9MB/s eta 0:00:01\r\u001b[K     |████████████████████████████████| 1.3MB 4.9MB/s eta 0:00:01\r\u001b[K     |████████████████████████████████| 1.3MB 4.9MB/s \n",
            "\u001b[?25hRequirement already satisfied, skipping upgrade: scipy>=1.2.1 in /usr/local/lib/python3.6/dist-packages (from mlxtend) (1.3.1)\n",
            "Requirement already satisfied, skipping upgrade: pandas>=0.24.2 in /usr/local/lib/python3.6/dist-packages (from mlxtend) (0.24.2)\n",
            "Requirement already satisfied, skipping upgrade: matplotlib>=3.0.0 in /usr/local/lib/python3.6/dist-packages (from mlxtend) (3.0.3)\n",
            "Requirement already satisfied, skipping upgrade: joblib>=0.13.2 in /usr/local/lib/python3.6/dist-packages (from mlxtend) (0.13.2)\n",
            "Requirement already satisfied, skipping upgrade: numpy>=1.16.2 in /usr/local/lib/python3.6/dist-packages (from mlxtend) (1.16.5)\n",
            "Requirement already satisfied, skipping upgrade: setuptools in /usr/local/lib/python3.6/dist-packages (from mlxtend) (41.2.0)\n",
            "Requirement already satisfied, skipping upgrade: scikit-learn>=0.20.3 in /usr/local/lib/python3.6/dist-packages (from mlxtend) (0.21.3)\n",
            "Requirement already satisfied, skipping upgrade: python-dateutil>=2.5.0 in /usr/local/lib/python3.6/dist-packages (from pandas>=0.24.2->mlxtend) (2.5.3)\n",
            "Requirement already satisfied, skipping upgrade: pytz>=2011k in /usr/local/lib/python3.6/dist-packages (from pandas>=0.24.2->mlxtend) (2018.9)\n",
            "Requirement already satisfied, skipping upgrade: kiwisolver>=1.0.1 in /usr/local/lib/python3.6/dist-packages (from matplotlib>=3.0.0->mlxtend) (1.1.0)\n",
            "Requirement already satisfied, skipping upgrade: pyparsing!=2.0.4,!=2.1.2,!=2.1.6,>=2.0.1 in /usr/local/lib/python3.6/dist-packages (from matplotlib>=3.0.0->mlxtend) (2.4.2)\n",
            "Requirement already satisfied, skipping upgrade: cycler>=0.10 in /usr/local/lib/python3.6/dist-packages (from matplotlib>=3.0.0->mlxtend) (0.10.0)\n",
            "Requirement already satisfied, skipping upgrade: six>=1.5 in /usr/local/lib/python3.6/dist-packages (from python-dateutil>=2.5.0->pandas>=0.24.2->mlxtend) (1.12.0)\n",
            "Installing collected packages: mlxtend\n",
            "  Found existing installation: mlxtend 0.14.0\n",
            "    Uninstalling mlxtend-0.14.0:\n",
            "      Successfully uninstalled mlxtend-0.14.0\n",
            "Successfully installed mlxtend-0.17.0\n"
          ],
          "name": "stdout"
        }
      ]
    },
    {
      "cell_type": "code",
      "metadata": {
        "id": "VT1fPuny44Z7",
        "colab_type": "code",
        "colab": {
          "base_uri": "https://localhost:8080/",
          "height": 334
        },
        "outputId": "d18d295c-758f-46c9-a35a-a33ca40882cb"
      },
      "source": [
        "#For the LogisticRegression\n",
        "tn, fp, fn, tp = confusion_matrix(y_test, y_pred_LogReg).ravel()\n",
        "print('True positive rate:{}' .format(tp/y_test.sum()))\n",
        "plot_confusion_matrix(conf_mat=confusion_matrix(y_test, y_pred_LogReg),\n",
        "                                colorbar=True,\n",
        "                                show_absolute=True,\n",
        "                                show_normed=True)"
      ],
      "execution_count": 22,
      "outputs": [
        {
          "output_type": "stream",
          "text": [
            "True positive rate:0.8461538461538461\n"
          ],
          "name": "stdout"
        },
        {
          "output_type": "execute_result",
          "data": {
            "text/plain": [
              "(<Figure size 432x288 with 2 Axes>,\n",
              " <matplotlib.axes._subplots.AxesSubplot at 0x7fef1cd769e8>)"
            ]
          },
          "metadata": {
            "tags": []
          },
          "execution_count": 22
        },
        {
          "output_type": "display_data",
          "data": {
            "image/png": "[encoded data removed]",
            "text/plain": [
              "<Figure size 432x288 with 2 Axes>"
            ]
          },
          "metadata": {
            "tags": []
          }
        }
      ]
    },
    {
      "cell_type": "code",
      "metadata": {
        "id": "PO8zmuv_4-ur",
        "colab_type": "code",
        "colab": {
          "base_uri": "https://localhost:8080/",
          "height": 334
        },
        "outputId": "5df363a6-3189-40bc-ba2c-ae5ee7dd84ad"
      },
      "source": [
        "#For the DesicisionTree\n",
        "tn, fp, fn, tp = confusion_matrix(y_test, y_pred_Tree).ravel()\n",
        "print('True positive rate:{}' .format(tp/y_test.sum()))\n",
        "plot_confusion_matrix(conf_mat=confusion_matrix(y_test, y_pred_Tree),\n",
        "                                colorbar=True,\n",
        "                                show_absolute=True,\n",
        "                                show_normed=True)"
      ],
      "execution_count": 23,
      "outputs": [
        {
          "output_type": "stream",
          "text": [
            "True positive rate:0.6923076923076923\n"
          ],
          "name": "stdout"
        },
        {
          "output_type": "execute_result",
          "data": {
            "text/plain": [
              "(<Figure size 432x288 with 2 Axes>,\n",
              " <matplotlib.axes._subplots.AxesSubplot at 0x7fef1cd02358>)"
            ]
          },
          "metadata": {
            "tags": []
          },
          "execution_count": 23
        },
        {
          "output_type": "display_data",
          "data": {
            "image/png": "[encoded data removed]",
            "text/plain": [
              "<Figure size 432x288 with 2 Axes>"
            ]
          },
          "metadata": {
            "tags": []
          }
        }
      ]
    },
    {
      "cell_type": "code",
      "metadata": {
        "id": "RDUk4FXg5HfZ",
        "colab_type": "code",
        "colab": {
          "base_uri": "https://localhost:8080/",
          "height": 334
        },
        "outputId": "7525ac67-7986-407b-89f0-652d3b6dd240"
      },
      "source": [
        "#For the randomforest\n",
        "tn, fp, fn, tp = confusion_matrix(y_test, y_pred_For).ravel()\n",
        "print('True positive rate:{}' .format(tp/y_test.sum()))\n",
        "plot_confusion_matrix(conf_mat=confusion_matrix(y_test, y_pred_For),\n",
        "                                colorbar=True,\n",
        "                                show_absolute=True,\n",
        "                                show_normed=True)"
      ],
      "execution_count": 24,
      "outputs": [
        {
          "output_type": "stream",
          "text": [
            "True positive rate:0.6153846153846154\n"
          ],
          "name": "stdout"
        },
        {
          "output_type": "execute_result",
          "data": {
            "text/plain": [
              "(<Figure size 432x288 with 2 Axes>,\n",
              " <matplotlib.axes._subplots.AxesSubplot at 0x7fef1d125c50>)"
            ]
          },
          "metadata": {
            "tags": []
          },
          "execution_count": 24
        },
        {
          "output_type": "display_data",
          "data": {
            "image/png": "[encoded data removed]",
            "text/plain": [
              "<Figure size 432x288 with 2 Axes>"
            ]
          },
          "metadata": {
            "tags": []
          }
        }
      ]
    },
    {
      "cell_type": "markdown",
      "metadata": {
        "id": "IU6uf7Ze_TqV",
        "colab_type": "text"
      },
      "source": [
        "overall it appears that the models are pretty decent, at predicting wheter or not a pokemon will be legendary. however, it also seems, that the Randomforest model, has more problems predicting than the others. "
      ]
    }
  ]
}