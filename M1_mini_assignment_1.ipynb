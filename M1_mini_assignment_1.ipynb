{
  "nbformat": 4,
  "nbformat_minor": 0,
  "metadata": {
    "colab": {
      "name": "M1 mini assignment 1.ipynb",
      "version": "0.3.2",
      "provenance": []
    },
    "kernelspec": {
      "name": "python3",
      "display_name": "Python 3"
    }
  },
  "cells": [
    {
      "cell_type": "markdown",
      "metadata": {
        "id": "-UKGo-LfE3Gb",
        "colab_type": "text"
      },
      "source": [
        "The first thing i want to do, is import the different data to the note book, using pandas. and make it show the dates."
      ]
    },
    {
      "cell_type": "code",
      "metadata": {
        "id": "70vCMqjIFKX5",
        "colab_type": "code",
        "colab": {
          "base_uri": "https://localhost:8080/",
          "height": 289
        },
        "outputId": "05326916-7e42-4c1d-8848-1d2368dc63b3"
      },
      "source": [
        "import pandas as pd\n",
        "\n",
        "trips=pd.read_csv('https://github.com/SDS-AAU/M1-2019/raw/master/data/trips.csv', parse_dates=True)\n",
        "\n",
        "trips.info()\n"
      ],
      "execution_count": 28,
      "outputs": [
        {
          "output_type": "stream",
          "text": [
            "<class 'pandas.core.frame.DataFrame'>\n",
            "RangeIndex: 46510 entries, 0 to 46509\n",
            "Data columns (total 11 columns):\n",
            "Unnamed: 0      46510 non-null int64\n",
            "username        46510 non-null object\n",
            "country         46473 non-null object\n",
            "country_code    45909 non-null object\n",
            "country_slug    46473 non-null object\n",
            "date_end        46335 non-null object\n",
            "date_start      46510 non-null object\n",
            "latitude        46510 non-null int64\n",
            "longitude       46510 non-null int64\n",
            "place           46510 non-null object\n",
            "place_slug      46473 non-null object\n",
            "dtypes: int64(3), object(8)\n",
            "memory usage: 3.9+ MB\n"
          ],
          "name": "stdout"
        }
      ]
    },
    {
      "cell_type": "markdown",
      "metadata": {
        "id": "qFlM0SPrG5eZ",
        "colab_type": "text"
      },
      "source": [
        "Then i want to tranform the dates in to timestamps, using transform and  coerce for the faulty dates"
      ]
    },
    {
      "cell_type": "code",
      "metadata": {
        "id": "0WBxRZTmFgmb",
        "colab_type": "code",
        "colab": {
          "base_uri": "https://localhost:8080/",
          "height": 289
        },
        "outputId": "830f53e6-bbcc-408d-ca8c-78ae875a22aa"
      },
      "source": [
        "trips['date_end']=pd.to_datetime(trips['date_end'], errors='coerce')\n",
        "trips['date_start']=pd.to_datetime(trips['date_start'], errors='coerce')\n",
        "\n",
        "trips.info()"
      ],
      "execution_count": 29,
      "outputs": [
        {
          "output_type": "stream",
          "text": [
            "<class 'pandas.core.frame.DataFrame'>\n",
            "RangeIndex: 46510 entries, 0 to 46509\n",
            "Data columns (total 11 columns):\n",
            "Unnamed: 0      46510 non-null int64\n",
            "username        46510 non-null object\n",
            "country         46473 non-null object\n",
            "country_code    45909 non-null object\n",
            "country_slug    46473 non-null object\n",
            "date_end        46292 non-null datetime64[ns]\n",
            "date_start      46499 non-null datetime64[ns]\n",
            "latitude        46510 non-null int64\n",
            "longitude       46510 non-null int64\n",
            "place           46510 non-null object\n",
            "place_slug      46473 non-null object\n",
            "dtypes: datetime64[ns](2), int64(3), object(6)\n",
            "memory usage: 3.9+ MB\n"
          ],
          "name": "stdout"
        }
      ]
    },
    {
      "cell_type": "markdown",
      "metadata": {
        "id": "e64gAlMtNPfU",
        "colab_type": "text"
      },
      "source": [
        "now i want to calculate the duration of the trips in days.\n"
      ]
    },
    {
      "cell_type": "code",
      "metadata": {
        "id": "hrccjvV_Lmji",
        "colab_type": "code",
        "colab": {
          "base_uri": "https://localhost:8080/",
          "height": 204
        },
        "outputId": "c3271e9d-c63b-4fc3-ca04-48105b098120"
      },
      "source": [
        "trips['days_duration']= trips['date_end']-trips['date_start']\n",
        "\n",
        "trips.head()\n",
        "\n"
      ],
      "execution_count": 30,
      "outputs": [
        {
          "output_type": "execute_result",
          "data": {
            "text/html": [
              "<div>\n",
              "<style scoped>\n",
              "    .dataframe tbody tr th:only-of-type {\n",
              "        vertical-align: middle;\n",
              "    }\n",
              "\n",
              "    .dataframe tbody tr th {\n",
              "        vertical-align: top;\n",
              "    }\n",
              "\n",
              "    .dataframe thead th {\n",
              "        text-align: right;\n",
              "    }\n",
              "</style>\n",
              "<table border=\"1\" class=\"dataframe\">\n",
              "  <thead>\n",
              "    <tr style=\"text-align: right;\">\n",
              "      <th></th>\n",
              "      <th>Unnamed: 0</th>\n",
              "      <th>username</th>\n",
              "      <th>country</th>\n",
              "      <th>country_code</th>\n",
              "      <th>country_slug</th>\n",
              "      <th>date_end</th>\n",
              "      <th>date_start</th>\n",
              "      <th>latitude</th>\n",
              "      <th>longitude</th>\n",
              "      <th>place</th>\n",
              "      <th>place_slug</th>\n",
              "      <th>days_duration</th>\n",
              "    </tr>\n",
              "  </thead>\n",
              "  <tbody>\n",
              "    <tr>\n",
              "      <th>0</th>\n",
              "      <td>0</td>\n",
              "      <td>@lewellenmichael</td>\n",
              "      <td>Mexico</td>\n",
              "      <td>MX</td>\n",
              "      <td>mexico</td>\n",
              "      <td>2018-06-15</td>\n",
              "      <td>2018-06-04</td>\n",
              "      <td>21</td>\n",
              "      <td>-101</td>\n",
              "      <td>Guanajuato</td>\n",
              "      <td>mexico</td>\n",
              "      <td>11 days</td>\n",
              "    </tr>\n",
              "    <tr>\n",
              "      <th>1</th>\n",
              "      <td>1</td>\n",
              "      <td>@lewellenmichael</td>\n",
              "      <td>Mexico</td>\n",
              "      <td>MX</td>\n",
              "      <td>mexico</td>\n",
              "      <td>2018-06-03</td>\n",
              "      <td>2018-05-31</td>\n",
              "      <td>19</td>\n",
              "      <td>-99</td>\n",
              "      <td>Mexico City</td>\n",
              "      <td>mexico-city-mexico</td>\n",
              "      <td>3 days</td>\n",
              "    </tr>\n",
              "    <tr>\n",
              "      <th>2</th>\n",
              "      <td>2</td>\n",
              "      <td>@lewellenmichael</td>\n",
              "      <td>Mexico</td>\n",
              "      <td>MX</td>\n",
              "      <td>mexico</td>\n",
              "      <td>2017-11-05</td>\n",
              "      <td>2017-11-01</td>\n",
              "      <td>21</td>\n",
              "      <td>-86</td>\n",
              "      <td>Cancun</td>\n",
              "      <td>cancun-mexico</td>\n",
              "      <td>4 days</td>\n",
              "    </tr>\n",
              "    <tr>\n",
              "      <th>3</th>\n",
              "      <td>3</td>\n",
              "      <td>@lewellenmichael</td>\n",
              "      <td>Jordan</td>\n",
              "      <td>JO</td>\n",
              "      <td>jordan</td>\n",
              "      <td>2017-08-07</td>\n",
              "      <td>2017-07-24</td>\n",
              "      <td>31</td>\n",
              "      <td>35</td>\n",
              "      <td>Amman</td>\n",
              "      <td>amman-jordan</td>\n",
              "      <td>14 days</td>\n",
              "    </tr>\n",
              "    <tr>\n",
              "      <th>4</th>\n",
              "      <td>4</td>\n",
              "      <td>@waylandchin</td>\n",
              "      <td>China</td>\n",
              "      <td>CN</td>\n",
              "      <td>china</td>\n",
              "      <td>2017-03-18</td>\n",
              "      <td>2017-02-17</td>\n",
              "      <td>40</td>\n",
              "      <td>122</td>\n",
              "      <td>Yingkou</td>\n",
              "      <td>china</td>\n",
              "      <td>29 days</td>\n",
              "    </tr>\n",
              "  </tbody>\n",
              "</table>\n",
              "</div>"
            ],
            "text/plain": [
              "   Unnamed: 0          username  ...          place_slug days_duration\n",
              "0           0  @lewellenmichael  ...              mexico       11 days\n",
              "1           1  @lewellenmichael  ...  mexico-city-mexico        3 days\n",
              "2           2  @lewellenmichael  ...       cancun-mexico        4 days\n",
              "3           3  @lewellenmichael  ...        amman-jordan       14 days\n",
              "4           4      @waylandchin  ...               china       29 days\n",
              "\n",
              "[5 rows x 12 columns]"
            ]
          },
          "metadata": {
            "tags": []
          },
          "execution_count": 30
        }
      ]
    },
    {
      "cell_type": "markdown",
      "metadata": {
        "id": "AlWsfcaEQotr",
        "colab_type": "text"
      },
      "source": [
        "Now the data needs to be cleaned, this means dropping outliers and removing NaNs. Before doing this the relevant data needs to be changed into the int data type \n"
      ]
    },
    {
      "cell_type": "code",
      "metadata": {
        "id": "6f_UrZK4HnQO",
        "colab_type": "code",
        "colab": {
          "base_uri": "https://localhost:8080/",
          "height": 306
        },
        "outputId": "46b81562-c2d8-4c4c-fc39-6a4d141b6ea1"
      },
      "source": [
        "trips.dropna(subset=['date_end', 'date_start', 'days_duration'], inplace=True)\n",
        "\n",
        "trips['days_duration']=trips.apply(lambda x: x['days_duration'].days, axis=1)\n",
        "\n",
        "trips.info()"
      ],
      "execution_count": 31,
      "outputs": [
        {
          "output_type": "stream",
          "text": [
            "<class 'pandas.core.frame.DataFrame'>\n",
            "Int64Index: 46282 entries, 0 to 46509\n",
            "Data columns (total 12 columns):\n",
            "Unnamed: 0       46282 non-null int64\n",
            "username         46282 non-null object\n",
            "country          46245 non-null object\n",
            "country_code     45684 non-null object\n",
            "country_slug     46245 non-null object\n",
            "date_end         46282 non-null datetime64[ns]\n",
            "date_start       46282 non-null datetime64[ns]\n",
            "latitude         46282 non-null int64\n",
            "longitude        46282 non-null int64\n",
            "place            46282 non-null object\n",
            "place_slug       46245 non-null object\n",
            "days_duration    46282 non-null int64\n",
            "dtypes: datetime64[ns](2), int64(4), object(6)\n",
            "memory usage: 4.6+ MB\n"
          ],
          "name": "stdout"
        }
      ]
    },
    {
      "cell_type": "code",
      "metadata": {
        "id": "08s2LEOnRagO",
        "colab_type": "code",
        "colab": {
          "base_uri": "https://localhost:8080/",
          "height": 204
        },
        "outputId": "1024a8d9-75cf-4a3c-8ea7-3f9eb54e46d3"
      },
      "source": [
        "#removing trips that start in the future \n",
        "far_future=trips['date_start'].dt.year<2020\n",
        "trips=trips[far_future]\n",
        "#removing trips that har to short\n",
        "minimum_days=trips['days_duration']>0\n",
        "trips=trips[minimum_days]\n",
        "#removing trips that are to long\n",
        "max_days=trips['days_duration']<365\n",
        "trips=trips[max_days]\n",
        "\n",
        "trips.head()"
      ],
      "execution_count": 32,
      "outputs": [
        {
          "output_type": "execute_result",
          "data": {
            "text/html": [
              "<div>\n",
              "<style scoped>\n",
              "    .dataframe tbody tr th:only-of-type {\n",
              "        vertical-align: middle;\n",
              "    }\n",
              "\n",
              "    .dataframe tbody tr th {\n",
              "        vertical-align: top;\n",
              "    }\n",
              "\n",
              "    .dataframe thead th {\n",
              "        text-align: right;\n",
              "    }\n",
              "</style>\n",
              "<table border=\"1\" class=\"dataframe\">\n",
              "  <thead>\n",
              "    <tr style=\"text-align: right;\">\n",
              "      <th></th>\n",
              "      <th>Unnamed: 0</th>\n",
              "      <th>username</th>\n",
              "      <th>country</th>\n",
              "      <th>country_code</th>\n",
              "      <th>country_slug</th>\n",
              "      <th>date_end</th>\n",
              "      <th>date_start</th>\n",
              "      <th>latitude</th>\n",
              "      <th>longitude</th>\n",
              "      <th>place</th>\n",
              "      <th>place_slug</th>\n",
              "      <th>days_duration</th>\n",
              "    </tr>\n",
              "  </thead>\n",
              "  <tbody>\n",
              "    <tr>\n",
              "      <th>0</th>\n",
              "      <td>0</td>\n",
              "      <td>@lewellenmichael</td>\n",
              "      <td>Mexico</td>\n",
              "      <td>MX</td>\n",
              "      <td>mexico</td>\n",
              "      <td>2018-06-15</td>\n",
              "      <td>2018-06-04</td>\n",
              "      <td>21</td>\n",
              "      <td>-101</td>\n",
              "      <td>Guanajuato</td>\n",
              "      <td>mexico</td>\n",
              "      <td>11</td>\n",
              "    </tr>\n",
              "    <tr>\n",
              "      <th>1</th>\n",
              "      <td>1</td>\n",
              "      <td>@lewellenmichael</td>\n",
              "      <td>Mexico</td>\n",
              "      <td>MX</td>\n",
              "      <td>mexico</td>\n",
              "      <td>2018-06-03</td>\n",
              "      <td>2018-05-31</td>\n",
              "      <td>19</td>\n",
              "      <td>-99</td>\n",
              "      <td>Mexico City</td>\n",
              "      <td>mexico-city-mexico</td>\n",
              "      <td>3</td>\n",
              "    </tr>\n",
              "    <tr>\n",
              "      <th>2</th>\n",
              "      <td>2</td>\n",
              "      <td>@lewellenmichael</td>\n",
              "      <td>Mexico</td>\n",
              "      <td>MX</td>\n",
              "      <td>mexico</td>\n",
              "      <td>2017-11-05</td>\n",
              "      <td>2017-11-01</td>\n",
              "      <td>21</td>\n",
              "      <td>-86</td>\n",
              "      <td>Cancun</td>\n",
              "      <td>cancun-mexico</td>\n",
              "      <td>4</td>\n",
              "    </tr>\n",
              "    <tr>\n",
              "      <th>3</th>\n",
              "      <td>3</td>\n",
              "      <td>@lewellenmichael</td>\n",
              "      <td>Jordan</td>\n",
              "      <td>JO</td>\n",
              "      <td>jordan</td>\n",
              "      <td>2017-08-07</td>\n",
              "      <td>2017-07-24</td>\n",
              "      <td>31</td>\n",
              "      <td>35</td>\n",
              "      <td>Amman</td>\n",
              "      <td>amman-jordan</td>\n",
              "      <td>14</td>\n",
              "    </tr>\n",
              "    <tr>\n",
              "      <th>4</th>\n",
              "      <td>4</td>\n",
              "      <td>@waylandchin</td>\n",
              "      <td>China</td>\n",
              "      <td>CN</td>\n",
              "      <td>china</td>\n",
              "      <td>2017-03-18</td>\n",
              "      <td>2017-02-17</td>\n",
              "      <td>40</td>\n",
              "      <td>122</td>\n",
              "      <td>Yingkou</td>\n",
              "      <td>china</td>\n",
              "      <td>29</td>\n",
              "    </tr>\n",
              "  </tbody>\n",
              "</table>\n",
              "</div>"
            ],
            "text/plain": [
              "   Unnamed: 0          username  ...          place_slug days_duration\n",
              "0           0  @lewellenmichael  ...              mexico            11\n",
              "1           1  @lewellenmichael  ...  mexico-city-mexico             3\n",
              "2           2  @lewellenmichael  ...       cancun-mexico             4\n",
              "3           3  @lewellenmichael  ...        amman-jordan            14\n",
              "4           4      @waylandchin  ...               china            29\n",
              "\n",
              "[5 rows x 12 columns]"
            ]
          },
          "metadata": {
            "tags": []
          },
          "execution_count": 32
        }
      ]
    },
    {
      "cell_type": "markdown",
      "metadata": {
        "id": "1pEb4TF9RDGa",
        "colab_type": "text"
      },
      "source": [
        "now that the outliers have been removed, the country list will be joined to the trips data, and datetime index be set to start date af a trip\n"
      ]
    },
    {
      "cell_type": "code",
      "metadata": {
        "id": "D1iIJ3cPRWfA",
        "colab_type": "code",
        "colab": {
          "base_uri": "https://localhost:8080/",
          "height": 204
        },
        "outputId": "a9c6029b-a848-41a2-9d75-b5bd73a1340d"
      },
      "source": [
        "country=pd.read_csv('https://github.com/SDS-AAU/M1-2019/raw/master/data/countrylist.csv'\n",
        ", parse_dates=True)\n",
        "\n",
        "country.head()\n",
        "\n"
      ],
      "execution_count": 33,
      "outputs": [
        {
          "output_type": "execute_result",
          "data": {
            "text/html": [
              "<div>\n",
              "<style scoped>\n",
              "    .dataframe tbody tr th:only-of-type {\n",
              "        vertical-align: middle;\n",
              "    }\n",
              "\n",
              "    .dataframe tbody tr th {\n",
              "        vertical-align: top;\n",
              "    }\n",
              "\n",
              "    .dataframe thead th {\n",
              "        text-align: right;\n",
              "    }\n",
              "</style>\n",
              "<table border=\"1\" class=\"dataframe\">\n",
              "  <thead>\n",
              "    <tr style=\"text-align: right;\">\n",
              "      <th></th>\n",
              "      <th>alpha_2</th>\n",
              "      <th>region</th>\n",
              "      <th>sub_region</th>\n",
              "    </tr>\n",
              "  </thead>\n",
              "  <tbody>\n",
              "    <tr>\n",
              "      <th>0</th>\n",
              "      <td>AF</td>\n",
              "      <td>Asia</td>\n",
              "      <td>Southern Asia</td>\n",
              "    </tr>\n",
              "    <tr>\n",
              "      <th>1</th>\n",
              "      <td>AX</td>\n",
              "      <td>Europe</td>\n",
              "      <td>Northern Europe</td>\n",
              "    </tr>\n",
              "    <tr>\n",
              "      <th>2</th>\n",
              "      <td>AL</td>\n",
              "      <td>Europe</td>\n",
              "      <td>Southern Europe</td>\n",
              "    </tr>\n",
              "    <tr>\n",
              "      <th>3</th>\n",
              "      <td>DZ</td>\n",
              "      <td>Africa</td>\n",
              "      <td>Northern Africa</td>\n",
              "    </tr>\n",
              "    <tr>\n",
              "      <th>4</th>\n",
              "      <td>AS</td>\n",
              "      <td>Oceania</td>\n",
              "      <td>Polynesia</td>\n",
              "    </tr>\n",
              "  </tbody>\n",
              "</table>\n",
              "</div>"
            ],
            "text/plain": [
              "  alpha_2   region       sub_region\n",
              "0      AF     Asia    Southern Asia\n",
              "1      AX   Europe  Northern Europe\n",
              "2      AL   Europe  Southern Europe\n",
              "3      DZ   Africa  Northern Africa\n",
              "4      AS  Oceania        Polynesia"
            ]
          },
          "metadata": {
            "tags": []
          },
          "execution_count": 33
        }
      ]
    },
    {
      "cell_type": "code",
      "metadata": {
        "id": "3OhSBG-vRqao",
        "colab_type": "code",
        "colab": {
          "base_uri": "https://localhost:8080/",
          "height": 516
        },
        "outputId": "a782d659-e1f0-45e4-f4b3-655467c48f4d"
      },
      "source": [
        "#in order to merge trips with country it is needed to rename the aplha_2 to country_code\n",
        "country.rename(columns={'alpha_2':'country_code'}, inplace=True)\n",
        "\n",
        "\n",
        "\n",
        "trips=pd.merge(trips, country, on='country_code')\n",
        "\n",
        "trips.head()"
      ],
      "execution_count": 34,
      "outputs": [
        {
          "output_type": "execute_result",
          "data": {
            "text/html": [
              "<div>\n",
              "<style scoped>\n",
              "    .dataframe tbody tr th:only-of-type {\n",
              "        vertical-align: middle;\n",
              "    }\n",
              "\n",
              "    .dataframe tbody tr th {\n",
              "        vertical-align: top;\n",
              "    }\n",
              "\n",
              "    .dataframe thead th {\n",
              "        text-align: right;\n",
              "    }\n",
              "</style>\n",
              "<table border=\"1\" class=\"dataframe\">\n",
              "  <thead>\n",
              "    <tr style=\"text-align: right;\">\n",
              "      <th></th>\n",
              "      <th>Unnamed: 0</th>\n",
              "      <th>username</th>\n",
              "      <th>country</th>\n",
              "      <th>country_code</th>\n",
              "      <th>country_slug</th>\n",
              "      <th>date_end</th>\n",
              "      <th>date_start</th>\n",
              "      <th>latitude</th>\n",
              "      <th>longitude</th>\n",
              "      <th>place</th>\n",
              "      <th>place_slug</th>\n",
              "      <th>days_duration</th>\n",
              "      <th>region</th>\n",
              "      <th>sub_region</th>\n",
              "    </tr>\n",
              "  </thead>\n",
              "  <tbody>\n",
              "    <tr>\n",
              "      <th>0</th>\n",
              "      <td>0</td>\n",
              "      <td>@lewellenmichael</td>\n",
              "      <td>Mexico</td>\n",
              "      <td>MX</td>\n",
              "      <td>mexico</td>\n",
              "      <td>2018-06-15</td>\n",
              "      <td>2018-06-04</td>\n",
              "      <td>21</td>\n",
              "      <td>-101</td>\n",
              "      <td>Guanajuato</td>\n",
              "      <td>mexico</td>\n",
              "      <td>11</td>\n",
              "      <td>Americas</td>\n",
              "      <td>Latin America and the Caribbean</td>\n",
              "    </tr>\n",
              "    <tr>\n",
              "      <th>1</th>\n",
              "      <td>1</td>\n",
              "      <td>@lewellenmichael</td>\n",
              "      <td>Mexico</td>\n",
              "      <td>MX</td>\n",
              "      <td>mexico</td>\n",
              "      <td>2018-06-03</td>\n",
              "      <td>2018-05-31</td>\n",
              "      <td>19</td>\n",
              "      <td>-99</td>\n",
              "      <td>Mexico City</td>\n",
              "      <td>mexico-city-mexico</td>\n",
              "      <td>3</td>\n",
              "      <td>Americas</td>\n",
              "      <td>Latin America and the Caribbean</td>\n",
              "    </tr>\n",
              "    <tr>\n",
              "      <th>2</th>\n",
              "      <td>2</td>\n",
              "      <td>@lewellenmichael</td>\n",
              "      <td>Mexico</td>\n",
              "      <td>MX</td>\n",
              "      <td>mexico</td>\n",
              "      <td>2017-11-05</td>\n",
              "      <td>2017-11-01</td>\n",
              "      <td>21</td>\n",
              "      <td>-86</td>\n",
              "      <td>Cancun</td>\n",
              "      <td>cancun-mexico</td>\n",
              "      <td>4</td>\n",
              "      <td>Americas</td>\n",
              "      <td>Latin America and the Caribbean</td>\n",
              "    </tr>\n",
              "    <tr>\n",
              "      <th>3</th>\n",
              "      <td>62</td>\n",
              "      <td>@jtompl</td>\n",
              "      <td>Mexico</td>\n",
              "      <td>MX</td>\n",
              "      <td>mexico</td>\n",
              "      <td>2017-09-25</td>\n",
              "      <td>2017-09-10</td>\n",
              "      <td>19</td>\n",
              "      <td>-99</td>\n",
              "      <td>Mexico City</td>\n",
              "      <td>mexico-city-mexico</td>\n",
              "      <td>15</td>\n",
              "      <td>Americas</td>\n",
              "      <td>Latin America and the Caribbean</td>\n",
              "    </tr>\n",
              "    <tr>\n",
              "      <th>4</th>\n",
              "      <td>63</td>\n",
              "      <td>@jtompl</td>\n",
              "      <td>Mexico</td>\n",
              "      <td>MX</td>\n",
              "      <td>mexico</td>\n",
              "      <td>2017-09-10</td>\n",
              "      <td>2017-09-01</td>\n",
              "      <td>20</td>\n",
              "      <td>-87</td>\n",
              "      <td>Tulum</td>\n",
              "      <td>tulum-mexico</td>\n",
              "      <td>9</td>\n",
              "      <td>Americas</td>\n",
              "      <td>Latin America and the Caribbean</td>\n",
              "    </tr>\n",
              "  </tbody>\n",
              "</table>\n",
              "</div>"
            ],
            "text/plain": [
              "   Unnamed: 0          username  ...    region                       sub_region\n",
              "0           0  @lewellenmichael  ...  Americas  Latin America and the Caribbean\n",
              "1           1  @lewellenmichael  ...  Americas  Latin America and the Caribbean\n",
              "2           2  @lewellenmichael  ...  Americas  Latin America and the Caribbean\n",
              "3          62           @jtompl  ...  Americas  Latin America and the Caribbean\n",
              "4          63           @jtompl  ...  Americas  Latin America and the Caribbean\n",
              "\n",
              "[5 rows x 14 columns]"
            ]
          },
          "metadata": {
            "tags": []
          },
          "execution_count": 34
        }
      ]
    },
    {
      "cell_type": "code",
      "metadata": {
        "id": "tpEtF8E4TKii",
        "colab_type": "code",
        "colab": {}
      },
      "source": [
        "#last the datetime index will be set to the start date of a trip\n",
        "\n",
        "trips.index=trips['date_start']\n",
        "\n"
      ],
      "execution_count": 0,
      "outputs": []
    },
    {
      "cell_type": "code",
      "metadata": {
        "id": "UYMfAGc5VXqt",
        "colab_type": "code",
        "colab": {
          "base_uri": "https://localhost:8080/",
          "height": 530
        },
        "outputId": "0928b820-e0a0-4ec5-c893-f5ab2aea65c4"
      },
      "source": [
        "\n",
        "trips.head()"
      ],
      "execution_count": 53,
      "outputs": [
        {
          "output_type": "execute_result",
          "data": {
            "text/html": [
              "<div>\n",
              "<style scoped>\n",
              "    .dataframe tbody tr th:only-of-type {\n",
              "        vertical-align: middle;\n",
              "    }\n",
              "\n",
              "    .dataframe tbody tr th {\n",
              "        vertical-align: top;\n",
              "    }\n",
              "\n",
              "    .dataframe thead th {\n",
              "        text-align: right;\n",
              "    }\n",
              "</style>\n",
              "<table border=\"1\" class=\"dataframe\">\n",
              "  <thead>\n",
              "    <tr style=\"text-align: right;\">\n",
              "      <th></th>\n",
              "      <th>username</th>\n",
              "      <th>country</th>\n",
              "      <th>country_code</th>\n",
              "      <th>country_slug</th>\n",
              "      <th>date_end</th>\n",
              "      <th>date_start</th>\n",
              "      <th>latitude</th>\n",
              "      <th>longitude</th>\n",
              "      <th>place</th>\n",
              "      <th>place_slug</th>\n",
              "      <th>days_duration</th>\n",
              "      <th>region</th>\n",
              "      <th>sub_region</th>\n",
              "    </tr>\n",
              "    <tr>\n",
              "      <th>date_start</th>\n",
              "      <th></th>\n",
              "      <th></th>\n",
              "      <th></th>\n",
              "      <th></th>\n",
              "      <th></th>\n",
              "      <th></th>\n",
              "      <th></th>\n",
              "      <th></th>\n",
              "      <th></th>\n",
              "      <th></th>\n",
              "      <th></th>\n",
              "      <th></th>\n",
              "      <th></th>\n",
              "    </tr>\n",
              "  </thead>\n",
              "  <tbody>\n",
              "    <tr>\n",
              "      <th>2018-06-04</th>\n",
              "      <td>@lewellenmichael</td>\n",
              "      <td>Mexico</td>\n",
              "      <td>MX</td>\n",
              "      <td>mexico</td>\n",
              "      <td>2018-06-15</td>\n",
              "      <td>2018-06-04</td>\n",
              "      <td>21</td>\n",
              "      <td>-101</td>\n",
              "      <td>Guanajuato</td>\n",
              "      <td>mexico</td>\n",
              "      <td>11</td>\n",
              "      <td>Americas</td>\n",
              "      <td>Latin America and the Caribbean</td>\n",
              "    </tr>\n",
              "    <tr>\n",
              "      <th>2018-05-31</th>\n",
              "      <td>@lewellenmichael</td>\n",
              "      <td>Mexico</td>\n",
              "      <td>MX</td>\n",
              "      <td>mexico</td>\n",
              "      <td>2018-06-03</td>\n",
              "      <td>2018-05-31</td>\n",
              "      <td>19</td>\n",
              "      <td>-99</td>\n",
              "      <td>Mexico City</td>\n",
              "      <td>mexico-city-mexico</td>\n",
              "      <td>3</td>\n",
              "      <td>Americas</td>\n",
              "      <td>Latin America and the Caribbean</td>\n",
              "    </tr>\n",
              "    <tr>\n",
              "      <th>2017-11-01</th>\n",
              "      <td>@lewellenmichael</td>\n",
              "      <td>Mexico</td>\n",
              "      <td>MX</td>\n",
              "      <td>mexico</td>\n",
              "      <td>2017-11-05</td>\n",
              "      <td>2017-11-01</td>\n",
              "      <td>21</td>\n",
              "      <td>-86</td>\n",
              "      <td>Cancun</td>\n",
              "      <td>cancun-mexico</td>\n",
              "      <td>4</td>\n",
              "      <td>Americas</td>\n",
              "      <td>Latin America and the Caribbean</td>\n",
              "    </tr>\n",
              "    <tr>\n",
              "      <th>2017-09-10</th>\n",
              "      <td>@jtompl</td>\n",
              "      <td>Mexico</td>\n",
              "      <td>MX</td>\n",
              "      <td>mexico</td>\n",
              "      <td>2017-09-25</td>\n",
              "      <td>2017-09-10</td>\n",
              "      <td>19</td>\n",
              "      <td>-99</td>\n",
              "      <td>Mexico City</td>\n",
              "      <td>mexico-city-mexico</td>\n",
              "      <td>15</td>\n",
              "      <td>Americas</td>\n",
              "      <td>Latin America and the Caribbean</td>\n",
              "    </tr>\n",
              "    <tr>\n",
              "      <th>2017-09-01</th>\n",
              "      <td>@jtompl</td>\n",
              "      <td>Mexico</td>\n",
              "      <td>MX</td>\n",
              "      <td>mexico</td>\n",
              "      <td>2017-09-10</td>\n",
              "      <td>2017-09-01</td>\n",
              "      <td>20</td>\n",
              "      <td>-87</td>\n",
              "      <td>Tulum</td>\n",
              "      <td>tulum-mexico</td>\n",
              "      <td>9</td>\n",
              "      <td>Americas</td>\n",
              "      <td>Latin America and the Caribbean</td>\n",
              "    </tr>\n",
              "  </tbody>\n",
              "</table>\n",
              "</div>"
            ],
            "text/plain": [
              "                    username country  ...    region                       sub_region\n",
              "date_start                            ...                                           \n",
              "2018-06-04  @lewellenmichael  Mexico  ...  Americas  Latin America and the Caribbean\n",
              "2018-05-31  @lewellenmichael  Mexico  ...  Americas  Latin America and the Caribbean\n",
              "2017-11-01  @lewellenmichael  Mexico  ...  Americas  Latin America and the Caribbean\n",
              "2017-09-10           @jtompl  Mexico  ...  Americas  Latin America and the Caribbean\n",
              "2017-09-01           @jtompl  Mexico  ...  Americas  Latin America and the Caribbean\n",
              "\n",
              "[5 rows x 13 columns]"
            ]
          },
          "metadata": {
            "tags": []
          },
          "execution_count": 53
        }
      ]
    },
    {
      "cell_type": "markdown",
      "metadata": {
        "id": "Cf5PaBGZ8unv",
        "colab_type": "text"
      },
      "source": [
        "Now i am going to look at something else than the trips data, for a moment. \n",
        "i will instead explore some information in the people data that i will shortly import. the questions to answear is the following.\n",
        "\n",
        "a. How many people have at least a “High School” diploma?\n",
        "\n",
        "b. How many people working with “Software Dev” have a “Master's Degree”?\n",
        " \n",
        "c. Who is the person with a Master's Degree that has the highest number of followers?\n"
      ]
    },
    {
      "cell_type": "code",
      "metadata": {
        "id": "iL--ArKOWFAH",
        "colab_type": "code",
        "colab": {
          "base_uri": "https://localhost:8080/",
          "height": 204
        },
        "outputId": "b88a8a56-1a65-4d06-ad78-523ef7b78efc"
      },
      "source": [
        "people=pd.read_csv('https://github.com/SDS-AAU/M1-2019/raw/master/data/people.csv', parse_dates=True)\n",
        "\n",
        "people.head()"
      ],
      "execution_count": 54,
      "outputs": [
        {
          "output_type": "execute_result",
          "data": {
            "text/html": [
              "<div>\n",
              "<style scoped>\n",
              "    .dataframe tbody tr th:only-of-type {\n",
              "        vertical-align: middle;\n",
              "    }\n",
              "\n",
              "    .dataframe tbody tr th {\n",
              "        vertical-align: top;\n",
              "    }\n",
              "\n",
              "    .dataframe thead th {\n",
              "        text-align: right;\n",
              "    }\n",
              "</style>\n",
              "<table border=\"1\" class=\"dataframe\">\n",
              "  <thead>\n",
              "    <tr style=\"text-align: right;\">\n",
              "      <th></th>\n",
              "      <th>Unnamed: 0</th>\n",
              "      <th>username</th>\n",
              "      <th>followers</th>\n",
              "      <th>following</th>\n",
              "      <th>work_raw</th>\n",
              "      <th>education_raw</th>\n",
              "    </tr>\n",
              "  </thead>\n",
              "  <tbody>\n",
              "    <tr>\n",
              "      <th>0</th>\n",
              "      <td>0</td>\n",
              "      <td>@lewellenmichael</td>\n",
              "      <td>1</td>\n",
              "      <td>2</td>\n",
              "      <td>Software Dev, Startup Founder, Finance, Crypto...</td>\n",
              "      <td>High School, Bachelor's Degree</td>\n",
              "    </tr>\n",
              "    <tr>\n",
              "      <th>1</th>\n",
              "      <td>1</td>\n",
              "      <td>@waylandchin</td>\n",
              "      <td>0</td>\n",
              "      <td>2</td>\n",
              "      <td>NaN</td>\n",
              "      <td>NaN</td>\n",
              "    </tr>\n",
              "    <tr>\n",
              "      <th>2</th>\n",
              "      <td>2</td>\n",
              "      <td>@karan</td>\n",
              "      <td>2</td>\n",
              "      <td>1</td>\n",
              "      <td>NaN</td>\n",
              "      <td>NaN</td>\n",
              "    </tr>\n",
              "    <tr>\n",
              "      <th>3</th>\n",
              "      <td>3</td>\n",
              "      <td>@skaboss217</td>\n",
              "      <td>0</td>\n",
              "      <td>1</td>\n",
              "      <td>NaN</td>\n",
              "      <td>NaN</td>\n",
              "    </tr>\n",
              "    <tr>\n",
              "      <th>4</th>\n",
              "      <td>4</td>\n",
              "      <td>@apwn</td>\n",
              "      <td>17</td>\n",
              "      <td>426</td>\n",
              "      <td>Web Dev</td>\n",
              "      <td>NaN</td>\n",
              "    </tr>\n",
              "  </tbody>\n",
              "</table>\n",
              "</div>"
            ],
            "text/plain": [
              "   Unnamed: 0  ...                   education_raw\n",
              "0           0  ...  High School, Bachelor's Degree\n",
              "1           1  ...                             NaN\n",
              "2           2  ...                             NaN\n",
              "3           3  ...                             NaN\n",
              "4           4  ...                             NaN\n",
              "\n",
              "[5 rows x 6 columns]"
            ]
          },
          "metadata": {
            "tags": []
          },
          "execution_count": 54
        }
      ]
    },
    {
      "cell_type": "code",
      "metadata": {
        "id": "O4KGcQab9V0X",
        "colab_type": "code",
        "colab": {
          "base_uri": "https://localhost:8080/",
          "height": 204
        },
        "outputId": "a9df5d86-736b-456d-c020-2164e0d61d38"
      },
      "source": [
        "#Now to get an overview over the data, a few looks at the different types and more. \n",
        "\n",
        "people.info()"
      ],
      "execution_count": 55,
      "outputs": [
        {
          "output_type": "stream",
          "text": [
            "<class 'pandas.core.frame.DataFrame'>\n",
            "RangeIndex: 4016 entries, 0 to 4015\n",
            "Data columns (total 6 columns):\n",
            "Unnamed: 0       4016 non-null int64\n",
            "username         4016 non-null object\n",
            "followers        4016 non-null int64\n",
            "following        4016 non-null int64\n",
            "work_raw         1582 non-null object\n",
            "education_raw    451 non-null object\n",
            "dtypes: int64(3), object(3)\n",
            "memory usage: 188.3+ KB\n"
          ],
          "name": "stdout"
        }
      ]
    },
    {
      "cell_type": "code",
      "metadata": {
        "id": "25agIdlh-jVY",
        "colab_type": "code",
        "colab": {
          "base_uri": "https://localhost:8080/",
          "height": 204
        },
        "outputId": "5572f055-93b6-4576-dbd2-90dcfe2cd020"
      },
      "source": [
        "#As it is apparent, that some of the rows, are missing the data that is needed, these will be dropped.\n",
        "\n",
        "people.dropna(subset=['education_raw'], inplace=True)\n",
        "\n",
        "people.head()"
      ],
      "execution_count": 56,
      "outputs": [
        {
          "output_type": "execute_result",
          "data": {
            "text/html": [
              "<div>\n",
              "<style scoped>\n",
              "    .dataframe tbody tr th:only-of-type {\n",
              "        vertical-align: middle;\n",
              "    }\n",
              "\n",
              "    .dataframe tbody tr th {\n",
              "        vertical-align: top;\n",
              "    }\n",
              "\n",
              "    .dataframe thead th {\n",
              "        text-align: right;\n",
              "    }\n",
              "</style>\n",
              "<table border=\"1\" class=\"dataframe\">\n",
              "  <thead>\n",
              "    <tr style=\"text-align: right;\">\n",
              "      <th></th>\n",
              "      <th>Unnamed: 0</th>\n",
              "      <th>username</th>\n",
              "      <th>followers</th>\n",
              "      <th>following</th>\n",
              "      <th>work_raw</th>\n",
              "      <th>education_raw</th>\n",
              "    </tr>\n",
              "  </thead>\n",
              "  <tbody>\n",
              "    <tr>\n",
              "      <th>0</th>\n",
              "      <td>0</td>\n",
              "      <td>@lewellenmichael</td>\n",
              "      <td>1</td>\n",
              "      <td>2</td>\n",
              "      <td>Software Dev, Startup Founder, Finance, Crypto...</td>\n",
              "      <td>High School, Bachelor's Degree</td>\n",
              "    </tr>\n",
              "    <tr>\n",
              "      <th>7</th>\n",
              "      <td>7</td>\n",
              "      <td>@jtompl</td>\n",
              "      <td>2</td>\n",
              "      <td>3</td>\n",
              "      <td>Web Dev, Software Dev, Startup Founder, Produc...</td>\n",
              "      <td>High School, Bachelor's Degree, Master's Degree</td>\n",
              "    </tr>\n",
              "    <tr>\n",
              "      <th>14</th>\n",
              "      <td>14</td>\n",
              "      <td>@jaszczakw</td>\n",
              "      <td>0</td>\n",
              "      <td>1</td>\n",
              "      <td>Web Dev, Software Dev</td>\n",
              "      <td>Master's Degree</td>\n",
              "    </tr>\n",
              "    <tr>\n",
              "      <th>15</th>\n",
              "      <td>15</td>\n",
              "      <td>@anigupta</td>\n",
              "      <td>9</td>\n",
              "      <td>6</td>\n",
              "      <td>Web Dev, Software Dev, Startup Founder, Produc...</td>\n",
              "      <td>High School, Bachelor's Degree</td>\n",
              "    </tr>\n",
              "    <tr>\n",
              "      <th>16</th>\n",
              "      <td>16</td>\n",
              "      <td>@adventureinmyveins</td>\n",
              "      <td>3</td>\n",
              "      <td>3</td>\n",
              "      <td>Web Dev, Startup Founder</td>\n",
              "      <td>High School, Bachelor's Degree</td>\n",
              "    </tr>\n",
              "  </tbody>\n",
              "</table>\n",
              "</div>"
            ],
            "text/plain": [
              "    Unnamed: 0  ...                                    education_raw\n",
              "0            0  ...                   High School, Bachelor's Degree\n",
              "7            7  ...  High School, Bachelor's Degree, Master's Degree\n",
              "14          14  ...                                  Master's Degree\n",
              "15          15  ...                   High School, Bachelor's Degree\n",
              "16          16  ...                   High School, Bachelor's Degree\n",
              "\n",
              "[5 rows x 6 columns]"
            ]
          },
          "metadata": {
            "tags": []
          },
          "execution_count": 56
        }
      ]
    },
    {
      "cell_type": "code",
      "metadata": {
        "id": "RrusACin_FYF",
        "colab_type": "code",
        "colab": {
          "base_uri": "https://localhost:8080/",
          "height": 34
        },
        "outputId": "f0d4483a-2be3-4a64-8c44-206552be3b87"
      },
      "source": [
        "#now to count the different number of educations in the data and answear question a.(answear 130)\n",
        "highschool_count=people['education_raw'].str.contains('High School')\n",
        "highschool_count.sum()"
      ],
      "execution_count": 57,
      "outputs": [
        {
          "output_type": "execute_result",
          "data": {
            "text/plain": [
              "130"
            ]
          },
          "metadata": {
            "tags": []
          },
          "execution_count": 57
        }
      ]
    },
    {
      "cell_type": "code",
      "metadata": {
        "id": "CFOR6p42Bguv",
        "colab_type": "code",
        "colab": {
          "base_uri": "https://localhost:8080/",
          "height": 34
        },
        "outputId": "231a409b-74f9-49b7-cf6a-3628edeba83e"
      },
      "source": [
        "#now for the answear to question B i need to define what parameters i want to find, and count the number rows where both are present.\n",
        "education=people['education_raw'].str.contains(\"Master's Degree\")\n",
        "work=people['work_raw'].str.contains('Software Dev')\n",
        "\n",
        "#using the .shape function set to 0 gives the number of rows with both parameters\n",
        "people[education & work].shape[0]\n"
      ],
      "execution_count": 58,
      "outputs": [
        {
          "output_type": "execute_result",
          "data": {
            "text/plain": [
              "57"
            ]
          },
          "metadata": {
            "tags": []
          },
          "execution_count": 58
        }
      ]
    },
    {
      "cell_type": "code",
      "metadata": {
        "id": "bEUUjL2_FOt7",
        "colab_type": "code",
        "colab": {
          "base_uri": "https://localhost:8080/",
          "height": 80
        },
        "outputId": "fbe3a6fc-d7cc-4d99-c5f9-39d6912b0881"
      },
      "source": [
        "#to find the Master's Degree with the most followers i do the following\n",
        "people[education].sort_values('followers', ascending=False).head(1)"
      ],
      "execution_count": 59,
      "outputs": [
        {
          "output_type": "execute_result",
          "data": {
            "text/html": [
              "<div>\n",
              "<style scoped>\n",
              "    .dataframe tbody tr th:only-of-type {\n",
              "        vertical-align: middle;\n",
              "    }\n",
              "\n",
              "    .dataframe tbody tr th {\n",
              "        vertical-align: top;\n",
              "    }\n",
              "\n",
              "    .dataframe thead th {\n",
              "        text-align: right;\n",
              "    }\n",
              "</style>\n",
              "<table border=\"1\" class=\"dataframe\">\n",
              "  <thead>\n",
              "    <tr style=\"text-align: right;\">\n",
              "      <th></th>\n",
              "      <th>Unnamed: 0</th>\n",
              "      <th>username</th>\n",
              "      <th>followers</th>\n",
              "      <th>following</th>\n",
              "      <th>work_raw</th>\n",
              "      <th>education_raw</th>\n",
              "    </tr>\n",
              "  </thead>\n",
              "  <tbody>\n",
              "    <tr>\n",
              "      <th>2043</th>\n",
              "      <td>2043</td>\n",
              "      <td>@levelsio</td>\n",
              "      <td>2182</td>\n",
              "      <td>353</td>\n",
              "      <td>Software Dev, Startup Founder, Creative</td>\n",
              "      <td>High School, Bachelor's Degree, Master's Degree</td>\n",
              "    </tr>\n",
              "  </tbody>\n",
              "</table>\n",
              "</div>"
            ],
            "text/plain": [
              "      Unnamed: 0  ...                                    education_raw\n",
              "2043        2043  ...  High School, Bachelor's Degree, Master's Degree\n",
              "\n",
              "[1 rows x 6 columns]"
            ]
          },
          "metadata": {
            "tags": []
          },
          "execution_count": 59
        }
      ]
    },
    {
      "cell_type": "markdown",
      "metadata": {
        "id": "I00yI6GGMEg5",
        "colab_type": "text"
      },
      "source": [
        "The last thing i will do, is go trough some questions relating to the trips data, that i preprosessed earlier. the questions is as follows. \n",
        "\n",
        "a. Which country received the highest number of trips?\n",
        "\n",
        "b. Which country received the highest number of trips in 2017?\n",
        "\n",
        "c. Which is the country in 'Eastern Asia' where travellers spent on average least time when going there? Provide a visualization.\n",
        "\n",
        "d. Do nomads that indicate working in “Software Dev” tend to have shorter or longer trips on average?\n",
        "\n",
        "e. Visualize over-time median trip duration overall (bonus: and split by world-region).\n"
      ]
    },
    {
      "cell_type": "code",
      "metadata": {
        "id": "rg8MtKVcXEMi",
        "colab_type": "code",
        "colab": {
          "base_uri": "https://localhost:8080/",
          "height": 390
        },
        "outputId": "733d46f4-cf01-41db-d66e-71084a9c0224"
      },
      "source": [
        "#in order to find the country that has the most trips, i group the data by country and sort it by country code, to find out how many trips have been made to it. \n",
        "trips.groupby('country').count().sort_values('country_code', ascending=False).head(10)"
      ],
      "execution_count": 60,
      "outputs": [
        {
          "output_type": "execute_result",
          "data": {
            "text/html": [
              "<div>\n",
              "<style scoped>\n",
              "    .dataframe tbody tr th:only-of-type {\n",
              "        vertical-align: middle;\n",
              "    }\n",
              "\n",
              "    .dataframe tbody tr th {\n",
              "        vertical-align: top;\n",
              "    }\n",
              "\n",
              "    .dataframe thead th {\n",
              "        text-align: right;\n",
              "    }\n",
              "</style>\n",
              "<table border=\"1\" class=\"dataframe\">\n",
              "  <thead>\n",
              "    <tr style=\"text-align: right;\">\n",
              "      <th></th>\n",
              "      <th>username</th>\n",
              "      <th>country_code</th>\n",
              "      <th>country_slug</th>\n",
              "      <th>date_end</th>\n",
              "      <th>date_start</th>\n",
              "      <th>latitude</th>\n",
              "      <th>longitude</th>\n",
              "      <th>place</th>\n",
              "      <th>place_slug</th>\n",
              "      <th>days_duration</th>\n",
              "      <th>region</th>\n",
              "      <th>sub_region</th>\n",
              "    </tr>\n",
              "    <tr>\n",
              "      <th>country</th>\n",
              "      <th></th>\n",
              "      <th></th>\n",
              "      <th></th>\n",
              "      <th></th>\n",
              "      <th></th>\n",
              "      <th></th>\n",
              "      <th></th>\n",
              "      <th></th>\n",
              "      <th></th>\n",
              "      <th></th>\n",
              "      <th></th>\n",
              "      <th></th>\n",
              "    </tr>\n",
              "  </thead>\n",
              "  <tbody>\n",
              "    <tr>\n",
              "      <th>United States</th>\n",
              "      <td>7095</td>\n",
              "      <td>7088</td>\n",
              "      <td>7095</td>\n",
              "      <td>7095</td>\n",
              "      <td>7095</td>\n",
              "      <td>7095</td>\n",
              "      <td>7095</td>\n",
              "      <td>7095</td>\n",
              "      <td>7095</td>\n",
              "      <td>7095</td>\n",
              "      <td>7095</td>\n",
              "      <td>7095</td>\n",
              "    </tr>\n",
              "    <tr>\n",
              "      <th>Thailand</th>\n",
              "      <td>3294</td>\n",
              "      <td>3294</td>\n",
              "      <td>3294</td>\n",
              "      <td>3294</td>\n",
              "      <td>3294</td>\n",
              "      <td>3294</td>\n",
              "      <td>3294</td>\n",
              "      <td>3294</td>\n",
              "      <td>3294</td>\n",
              "      <td>3294</td>\n",
              "      <td>3294</td>\n",
              "      <td>3294</td>\n",
              "    </tr>\n",
              "    <tr>\n",
              "      <th>Spain</th>\n",
              "      <td>1897</td>\n",
              "      <td>1896</td>\n",
              "      <td>1897</td>\n",
              "      <td>1897</td>\n",
              "      <td>1897</td>\n",
              "      <td>1897</td>\n",
              "      <td>1897</td>\n",
              "      <td>1897</td>\n",
              "      <td>1897</td>\n",
              "      <td>1897</td>\n",
              "      <td>1897</td>\n",
              "      <td>1897</td>\n",
              "    </tr>\n",
              "    <tr>\n",
              "      <th>Germany</th>\n",
              "      <td>1839</td>\n",
              "      <td>1836</td>\n",
              "      <td>1839</td>\n",
              "      <td>1839</td>\n",
              "      <td>1839</td>\n",
              "      <td>1839</td>\n",
              "      <td>1839</td>\n",
              "      <td>1839</td>\n",
              "      <td>1839</td>\n",
              "      <td>1839</td>\n",
              "      <td>1839</td>\n",
              "      <td>1839</td>\n",
              "    </tr>\n",
              "    <tr>\n",
              "      <th>France</th>\n",
              "      <td>1411</td>\n",
              "      <td>1411</td>\n",
              "      <td>1411</td>\n",
              "      <td>1411</td>\n",
              "      <td>1411</td>\n",
              "      <td>1411</td>\n",
              "      <td>1411</td>\n",
              "      <td>1411</td>\n",
              "      <td>1411</td>\n",
              "      <td>1411</td>\n",
              "      <td>1411</td>\n",
              "      <td>1411</td>\n",
              "    </tr>\n",
              "    <tr>\n",
              "      <th>Indonesia</th>\n",
              "      <td>1312</td>\n",
              "      <td>1311</td>\n",
              "      <td>1312</td>\n",
              "      <td>1312</td>\n",
              "      <td>1312</td>\n",
              "      <td>1312</td>\n",
              "      <td>1312</td>\n",
              "      <td>1312</td>\n",
              "      <td>1312</td>\n",
              "      <td>1312</td>\n",
              "      <td>1312</td>\n",
              "      <td>1312</td>\n",
              "    </tr>\n",
              "    <tr>\n",
              "      <th>China</th>\n",
              "      <td>1074</td>\n",
              "      <td>1074</td>\n",
              "      <td>1074</td>\n",
              "      <td>1074</td>\n",
              "      <td>1074</td>\n",
              "      <td>1074</td>\n",
              "      <td>1074</td>\n",
              "      <td>1074</td>\n",
              "      <td>1074</td>\n",
              "      <td>1074</td>\n",
              "      <td>1074</td>\n",
              "      <td>1074</td>\n",
              "    </tr>\n",
              "    <tr>\n",
              "      <th>Italy</th>\n",
              "      <td>1049</td>\n",
              "      <td>1049</td>\n",
              "      <td>1049</td>\n",
              "      <td>1049</td>\n",
              "      <td>1049</td>\n",
              "      <td>1049</td>\n",
              "      <td>1049</td>\n",
              "      <td>1049</td>\n",
              "      <td>1049</td>\n",
              "      <td>1049</td>\n",
              "      <td>1049</td>\n",
              "      <td>1049</td>\n",
              "    </tr>\n",
              "    <tr>\n",
              "      <th>Netherlands</th>\n",
              "      <td>1011</td>\n",
              "      <td>1010</td>\n",
              "      <td>1011</td>\n",
              "      <td>1011</td>\n",
              "      <td>1011</td>\n",
              "      <td>1011</td>\n",
              "      <td>1011</td>\n",
              "      <td>1011</td>\n",
              "      <td>1011</td>\n",
              "      <td>1011</td>\n",
              "      <td>1011</td>\n",
              "      <td>1011</td>\n",
              "    </tr>\n",
              "    <tr>\n",
              "      <th>Canada</th>\n",
              "      <td>989</td>\n",
              "      <td>989</td>\n",
              "      <td>989</td>\n",
              "      <td>989</td>\n",
              "      <td>989</td>\n",
              "      <td>989</td>\n",
              "      <td>989</td>\n",
              "      <td>989</td>\n",
              "      <td>989</td>\n",
              "      <td>989</td>\n",
              "      <td>989</td>\n",
              "      <td>989</td>\n",
              "    </tr>\n",
              "  </tbody>\n",
              "</table>\n",
              "</div>"
            ],
            "text/plain": [
              "               username  country_code  ...  region  sub_region\n",
              "country                                ...                    \n",
              "United States      7095          7088  ...    7095        7095\n",
              "Thailand           3294          3294  ...    3294        3294\n",
              "Spain              1897          1896  ...    1897        1897\n",
              "Germany            1839          1836  ...    1839        1839\n",
              "France             1411          1411  ...    1411        1411\n",
              "Indonesia          1312          1311  ...    1312        1312\n",
              "China              1074          1074  ...    1074        1074\n",
              "Italy              1049          1049  ...    1049        1049\n",
              "Netherlands        1011          1010  ...    1011        1011\n",
              "Canada              989           989  ...     989         989\n",
              "\n",
              "[10 rows x 12 columns]"
            ]
          },
          "metadata": {
            "tags": []
          },
          "execution_count": 60
        }
      ]
    },
    {
      "cell_type": "code",
      "metadata": {
        "id": "YOsqYo9EIeU3",
        "colab_type": "code",
        "colab": {
          "base_uri": "https://localhost:8080/",
          "height": 390
        },
        "outputId": "dbd4e5c0-7f48-4a9c-fbfe-68fbbb9f1d9d"
      },
      "source": [
        "#in order to find the country with the most trips in 2017 i do the same as last time, but with new parameters.\n",
        "\n",
        "start_date= trips['date_start'].dt.year==2017\n",
        "\n",
        "trips[start_date].groupby('country').count().sort_values('country_code', ascending=False).head(10)\n"
      ],
      "execution_count": 61,
      "outputs": [
        {
          "output_type": "execute_result",
          "data": {
            "text/html": [
              "<div>\n",
              "<style scoped>\n",
              "    .dataframe tbody tr th:only-of-type {\n",
              "        vertical-align: middle;\n",
              "    }\n",
              "\n",
              "    .dataframe tbody tr th {\n",
              "        vertical-align: top;\n",
              "    }\n",
              "\n",
              "    .dataframe thead th {\n",
              "        text-align: right;\n",
              "    }\n",
              "</style>\n",
              "<table border=\"1\" class=\"dataframe\">\n",
              "  <thead>\n",
              "    <tr style=\"text-align: right;\">\n",
              "      <th></th>\n",
              "      <th>username</th>\n",
              "      <th>country_code</th>\n",
              "      <th>country_slug</th>\n",
              "      <th>date_end</th>\n",
              "      <th>date_start</th>\n",
              "      <th>latitude</th>\n",
              "      <th>longitude</th>\n",
              "      <th>place</th>\n",
              "      <th>place_slug</th>\n",
              "      <th>days_duration</th>\n",
              "      <th>region</th>\n",
              "      <th>sub_region</th>\n",
              "    </tr>\n",
              "    <tr>\n",
              "      <th>country</th>\n",
              "      <th></th>\n",
              "      <th></th>\n",
              "      <th></th>\n",
              "      <th></th>\n",
              "      <th></th>\n",
              "      <th></th>\n",
              "      <th></th>\n",
              "      <th></th>\n",
              "      <th></th>\n",
              "      <th></th>\n",
              "      <th></th>\n",
              "      <th></th>\n",
              "    </tr>\n",
              "  </thead>\n",
              "  <tbody>\n",
              "    <tr>\n",
              "      <th>United States</th>\n",
              "      <td>1844</td>\n",
              "      <td>1844</td>\n",
              "      <td>1844</td>\n",
              "      <td>1844</td>\n",
              "      <td>1844</td>\n",
              "      <td>1844</td>\n",
              "      <td>1844</td>\n",
              "      <td>1844</td>\n",
              "      <td>1844</td>\n",
              "      <td>1844</td>\n",
              "      <td>1844</td>\n",
              "      <td>1844</td>\n",
              "    </tr>\n",
              "    <tr>\n",
              "      <th>Thailand</th>\n",
              "      <td>894</td>\n",
              "      <td>894</td>\n",
              "      <td>894</td>\n",
              "      <td>894</td>\n",
              "      <td>894</td>\n",
              "      <td>894</td>\n",
              "      <td>894</td>\n",
              "      <td>894</td>\n",
              "      <td>894</td>\n",
              "      <td>894</td>\n",
              "      <td>894</td>\n",
              "      <td>894</td>\n",
              "    </tr>\n",
              "    <tr>\n",
              "      <th>Spain</th>\n",
              "      <td>603</td>\n",
              "      <td>603</td>\n",
              "      <td>603</td>\n",
              "      <td>603</td>\n",
              "      <td>603</td>\n",
              "      <td>603</td>\n",
              "      <td>603</td>\n",
              "      <td>603</td>\n",
              "      <td>603</td>\n",
              "      <td>603</td>\n",
              "      <td>603</td>\n",
              "      <td>603</td>\n",
              "    </tr>\n",
              "    <tr>\n",
              "      <th>Germany</th>\n",
              "      <td>458</td>\n",
              "      <td>458</td>\n",
              "      <td>458</td>\n",
              "      <td>458</td>\n",
              "      <td>458</td>\n",
              "      <td>458</td>\n",
              "      <td>458</td>\n",
              "      <td>458</td>\n",
              "      <td>458</td>\n",
              "      <td>458</td>\n",
              "      <td>458</td>\n",
              "      <td>458</td>\n",
              "    </tr>\n",
              "    <tr>\n",
              "      <th>France</th>\n",
              "      <td>391</td>\n",
              "      <td>391</td>\n",
              "      <td>391</td>\n",
              "      <td>391</td>\n",
              "      <td>391</td>\n",
              "      <td>391</td>\n",
              "      <td>391</td>\n",
              "      <td>391</td>\n",
              "      <td>391</td>\n",
              "      <td>391</td>\n",
              "      <td>391</td>\n",
              "      <td>391</td>\n",
              "    </tr>\n",
              "    <tr>\n",
              "      <th>Indonesia</th>\n",
              "      <td>376</td>\n",
              "      <td>376</td>\n",
              "      <td>376</td>\n",
              "      <td>376</td>\n",
              "      <td>376</td>\n",
              "      <td>376</td>\n",
              "      <td>376</td>\n",
              "      <td>376</td>\n",
              "      <td>376</td>\n",
              "      <td>376</td>\n",
              "      <td>376</td>\n",
              "      <td>376</td>\n",
              "    </tr>\n",
              "    <tr>\n",
              "      <th>Vietnam</th>\n",
              "      <td>357</td>\n",
              "      <td>357</td>\n",
              "      <td>357</td>\n",
              "      <td>357</td>\n",
              "      <td>357</td>\n",
              "      <td>357</td>\n",
              "      <td>357</td>\n",
              "      <td>357</td>\n",
              "      <td>357</td>\n",
              "      <td>357</td>\n",
              "      <td>357</td>\n",
              "      <td>357</td>\n",
              "    </tr>\n",
              "    <tr>\n",
              "      <th>Mexico</th>\n",
              "      <td>317</td>\n",
              "      <td>317</td>\n",
              "      <td>317</td>\n",
              "      <td>317</td>\n",
              "      <td>317</td>\n",
              "      <td>317</td>\n",
              "      <td>317</td>\n",
              "      <td>317</td>\n",
              "      <td>317</td>\n",
              "      <td>317</td>\n",
              "      <td>317</td>\n",
              "      <td>317</td>\n",
              "    </tr>\n",
              "    <tr>\n",
              "      <th>Portugal</th>\n",
              "      <td>305</td>\n",
              "      <td>305</td>\n",
              "      <td>305</td>\n",
              "      <td>305</td>\n",
              "      <td>305</td>\n",
              "      <td>305</td>\n",
              "      <td>305</td>\n",
              "      <td>305</td>\n",
              "      <td>305</td>\n",
              "      <td>305</td>\n",
              "      <td>305</td>\n",
              "      <td>305</td>\n",
              "    </tr>\n",
              "    <tr>\n",
              "      <th>Italy</th>\n",
              "      <td>299</td>\n",
              "      <td>299</td>\n",
              "      <td>299</td>\n",
              "      <td>299</td>\n",
              "      <td>299</td>\n",
              "      <td>299</td>\n",
              "      <td>299</td>\n",
              "      <td>299</td>\n",
              "      <td>299</td>\n",
              "      <td>299</td>\n",
              "      <td>299</td>\n",
              "      <td>299</td>\n",
              "    </tr>\n",
              "  </tbody>\n",
              "</table>\n",
              "</div>"
            ],
            "text/plain": [
              "               username  country_code  ...  region  sub_region\n",
              "country                                ...                    \n",
              "United States      1844          1844  ...    1844        1844\n",
              "Thailand            894           894  ...     894         894\n",
              "Spain               603           603  ...     603         603\n",
              "Germany             458           458  ...     458         458\n",
              "France              391           391  ...     391         391\n",
              "Indonesia           376           376  ...     376         376\n",
              "Vietnam             357           357  ...     357         357\n",
              "Mexico              317           317  ...     317         317\n",
              "Portugal            305           305  ...     305         305\n",
              "Italy               299           299  ...     299         299\n",
              "\n",
              "[10 rows x 12 columns]"
            ]
          },
          "metadata": {
            "tags": []
          },
          "execution_count": 61
        }
      ]
    },
    {
      "cell_type": "code",
      "metadata": {
        "id": "SfAGilHwVnkn",
        "colab_type": "code",
        "colab": {
          "base_uri": "https://localhost:8080/",
          "height": 235
        },
        "outputId": "d1e4b429-8a90-46ee-8c83-ddeff854d8cd"
      },
      "source": [
        "#first i make a subset of the eastern asia region \n",
        "trips_asia=trips['sub_region']== 'Eastern Asia'\n",
        "#this i group it, take the mean and sort is, in order to find the lowest mean country (north korea)\n",
        "trips[trips_asia].groupby('country').mean().sort_values('days_duration', ascending=False).tail(5)"
      ],
      "execution_count": 62,
      "outputs": [
        {
          "output_type": "execute_result",
          "data": {
            "text/html": [
              "<div>\n",
              "<style scoped>\n",
              "    .dataframe tbody tr th:only-of-type {\n",
              "        vertical-align: middle;\n",
              "    }\n",
              "\n",
              "    .dataframe tbody tr th {\n",
              "        vertical-align: top;\n",
              "    }\n",
              "\n",
              "    .dataframe thead th {\n",
              "        text-align: right;\n",
              "    }\n",
              "</style>\n",
              "<table border=\"1\" class=\"dataframe\">\n",
              "  <thead>\n",
              "    <tr style=\"text-align: right;\">\n",
              "      <th></th>\n",
              "      <th>latitude</th>\n",
              "      <th>longitude</th>\n",
              "      <th>days_duration</th>\n",
              "    </tr>\n",
              "    <tr>\n",
              "      <th>country</th>\n",
              "      <th></th>\n",
              "      <th></th>\n",
              "      <th></th>\n",
              "    </tr>\n",
              "  </thead>\n",
              "  <tbody>\n",
              "    <tr>\n",
              "      <th>Mongolia</th>\n",
              "      <td>46.611111</td>\n",
              "      <td>105.833333</td>\n",
              "      <td>21.277778</td>\n",
              "    </tr>\n",
              "    <tr>\n",
              "      <th>Hong Kong</th>\n",
              "      <td>22.000000</td>\n",
              "      <td>114.000000</td>\n",
              "      <td>18.500000</td>\n",
              "    </tr>\n",
              "    <tr>\n",
              "      <th>Japan</th>\n",
              "      <td>34.711951</td>\n",
              "      <td>136.908069</td>\n",
              "      <td>17.037794</td>\n",
              "    </tr>\n",
              "    <tr>\n",
              "      <th>China</th>\n",
              "      <td>26.756052</td>\n",
              "      <td>114.633147</td>\n",
              "      <td>16.959963</td>\n",
              "    </tr>\n",
              "    <tr>\n",
              "      <th>North Korea</th>\n",
              "      <td>39.111111</td>\n",
              "      <td>124.888889</td>\n",
              "      <td>4.000000</td>\n",
              "    </tr>\n",
              "  </tbody>\n",
              "</table>\n",
              "</div>"
            ],
            "text/plain": [
              "              latitude   longitude  days_duration\n",
              "country                                          \n",
              "Mongolia     46.611111  105.833333      21.277778\n",
              "Hong Kong    22.000000  114.000000      18.500000\n",
              "Japan        34.711951  136.908069      17.037794\n",
              "China        26.756052  114.633147      16.959963\n",
              "North Korea  39.111111  124.888889       4.000000"
            ]
          },
          "metadata": {
            "tags": []
          },
          "execution_count": 62
        }
      ]
    },
    {
      "cell_type": "code",
      "metadata": {
        "id": "V9I_XEFfg38r",
        "colab_type": "code",
        "colab": {
          "base_uri": "https://localhost:8080/",
          "height": 309
        },
        "outputId": "0e485689-5292-4b2e-be90-af5adacf1194"
      },
      "source": [
        "#in order to make a plot over the east asia subset i import matplotlib.pyplot and make it plot the data. \n",
        "import matplotlib.pyplot as plt\n",
        "\n",
        "plot_asia=trips[trips_asia].groupby(\"country\").mean()['days_duration']\n",
        "\n",
        "plt.plot(plot_asia)\n",
        "#rotates the country names to make it readable \n",
        "plt.xticks(rotation=45)\n",
        "\n",
        "plt.show()"
      ],
      "execution_count": 68,
      "outputs": [
        {
          "output_type": "display_data",
          "data": {
            "image/png": "[encoded data removed]",
            "text/plain": [
              "<Figure size 432x288 with 1 Axes>"
            ]
          },
          "metadata": {
            "tags": []
          }
        }
      ]
    },
    {
      "cell_type": "code",
      "metadata": {
        "id": "T46AfUkgSoYp",
        "colab_type": "code",
        "colab": {
          "base_uri": "https://localhost:8080/",
          "height": 666
        },
        "outputId": "0ad777d9-6055-4a76-eb18-5c7b3494aea5"
      },
      "source": [
        "#in order to see if software devs make longer or shorter trips in avarage, i merge the two data sets on username\n",
        "trips=pd.merge(trips, people, on='username')\n",
        "\n",
        "trips.head()"
      ],
      "execution_count": 71,
      "outputs": [
        {
          "output_type": "execute_result",
          "data": {
            "text/html": [
              "<div>\n",
              "<style scoped>\n",
              "    .dataframe tbody tr th:only-of-type {\n",
              "        vertical-align: middle;\n",
              "    }\n",
              "\n",
              "    .dataframe tbody tr th {\n",
              "        vertical-align: top;\n",
              "    }\n",
              "\n",
              "    .dataframe thead th {\n",
              "        text-align: right;\n",
              "    }\n",
              "</style>\n",
              "<table border=\"1\" class=\"dataframe\">\n",
              "  <thead>\n",
              "    <tr style=\"text-align: right;\">\n",
              "      <th></th>\n",
              "      <th>username</th>\n",
              "      <th>country</th>\n",
              "      <th>country_code</th>\n",
              "      <th>country_slug</th>\n",
              "      <th>date_end</th>\n",
              "      <th>date_start</th>\n",
              "      <th>latitude</th>\n",
              "      <th>longitude</th>\n",
              "      <th>place</th>\n",
              "      <th>place_slug</th>\n",
              "      <th>days_duration</th>\n",
              "      <th>region</th>\n",
              "      <th>sub_region</th>\n",
              "      <th>Unnamed: 0</th>\n",
              "      <th>followers</th>\n",
              "      <th>following</th>\n",
              "      <th>work_raw</th>\n",
              "      <th>education_raw</th>\n",
              "    </tr>\n",
              "  </thead>\n",
              "  <tbody>\n",
              "    <tr>\n",
              "      <th>0</th>\n",
              "      <td>@lewellenmichael</td>\n",
              "      <td>Mexico</td>\n",
              "      <td>MX</td>\n",
              "      <td>mexico</td>\n",
              "      <td>2018-06-15</td>\n",
              "      <td>2018-06-04</td>\n",
              "      <td>21</td>\n",
              "      <td>-101</td>\n",
              "      <td>Guanajuato</td>\n",
              "      <td>mexico</td>\n",
              "      <td>11</td>\n",
              "      <td>Americas</td>\n",
              "      <td>Latin America and the Caribbean</td>\n",
              "      <td>0</td>\n",
              "      <td>1</td>\n",
              "      <td>2</td>\n",
              "      <td>Software Dev, Startup Founder, Finance, Crypto...</td>\n",
              "      <td>High School, Bachelor's Degree</td>\n",
              "    </tr>\n",
              "    <tr>\n",
              "      <th>1</th>\n",
              "      <td>@lewellenmichael</td>\n",
              "      <td>Mexico</td>\n",
              "      <td>MX</td>\n",
              "      <td>mexico</td>\n",
              "      <td>2018-06-03</td>\n",
              "      <td>2018-05-31</td>\n",
              "      <td>19</td>\n",
              "      <td>-99</td>\n",
              "      <td>Mexico City</td>\n",
              "      <td>mexico-city-mexico</td>\n",
              "      <td>3</td>\n",
              "      <td>Americas</td>\n",
              "      <td>Latin America and the Caribbean</td>\n",
              "      <td>0</td>\n",
              "      <td>1</td>\n",
              "      <td>2</td>\n",
              "      <td>Software Dev, Startup Founder, Finance, Crypto...</td>\n",
              "      <td>High School, Bachelor's Degree</td>\n",
              "    </tr>\n",
              "    <tr>\n",
              "      <th>2</th>\n",
              "      <td>@lewellenmichael</td>\n",
              "      <td>Mexico</td>\n",
              "      <td>MX</td>\n",
              "      <td>mexico</td>\n",
              "      <td>2017-11-05</td>\n",
              "      <td>2017-11-01</td>\n",
              "      <td>21</td>\n",
              "      <td>-86</td>\n",
              "      <td>Cancun</td>\n",
              "      <td>cancun-mexico</td>\n",
              "      <td>4</td>\n",
              "      <td>Americas</td>\n",
              "      <td>Latin America and the Caribbean</td>\n",
              "      <td>0</td>\n",
              "      <td>1</td>\n",
              "      <td>2</td>\n",
              "      <td>Software Dev, Startup Founder, Finance, Crypto...</td>\n",
              "      <td>High School, Bachelor's Degree</td>\n",
              "    </tr>\n",
              "    <tr>\n",
              "      <th>3</th>\n",
              "      <td>@lewellenmichael</td>\n",
              "      <td>Jordan</td>\n",
              "      <td>JO</td>\n",
              "      <td>jordan</td>\n",
              "      <td>2017-08-07</td>\n",
              "      <td>2017-07-24</td>\n",
              "      <td>31</td>\n",
              "      <td>35</td>\n",
              "      <td>Amman</td>\n",
              "      <td>amman-jordan</td>\n",
              "      <td>14</td>\n",
              "      <td>Asia</td>\n",
              "      <td>Western Asia</td>\n",
              "      <td>0</td>\n",
              "      <td>1</td>\n",
              "      <td>2</td>\n",
              "      <td>Software Dev, Startup Founder, Finance, Crypto...</td>\n",
              "      <td>High School, Bachelor's Degree</td>\n",
              "    </tr>\n",
              "    <tr>\n",
              "      <th>4</th>\n",
              "      <td>@jtompl</td>\n",
              "      <td>Mexico</td>\n",
              "      <td>MX</td>\n",
              "      <td>mexico</td>\n",
              "      <td>2017-09-25</td>\n",
              "      <td>2017-09-10</td>\n",
              "      <td>19</td>\n",
              "      <td>-99</td>\n",
              "      <td>Mexico City</td>\n",
              "      <td>mexico-city-mexico</td>\n",
              "      <td>15</td>\n",
              "      <td>Americas</td>\n",
              "      <td>Latin America and the Caribbean</td>\n",
              "      <td>7</td>\n",
              "      <td>2</td>\n",
              "      <td>3</td>\n",
              "      <td>Web Dev, Software Dev, Startup Founder, Produc...</td>\n",
              "      <td>High School, Bachelor's Degree, Master's Degree</td>\n",
              "    </tr>\n",
              "  </tbody>\n",
              "</table>\n",
              "</div>"
            ],
            "text/plain": [
              "           username  ...                                    education_raw\n",
              "0  @lewellenmichael  ...                   High School, Bachelor's Degree\n",
              "1  @lewellenmichael  ...                   High School, Bachelor's Degree\n",
              "2  @lewellenmichael  ...                   High School, Bachelor's Degree\n",
              "3  @lewellenmichael  ...                   High School, Bachelor's Degree\n",
              "4           @jtompl  ...  High School, Bachelor's Degree, Master's Degree\n",
              "\n",
              "[5 rows x 18 columns]"
            ]
          },
          "metadata": {
            "tags": []
          },
          "execution_count": 71
        }
      ]
    },
    {
      "cell_type": "code",
      "metadata": {
        "id": "85Bk6QQ-S4Wi",
        "colab_type": "code",
        "colab": {
          "base_uri": "https://localhost:8080/",
          "height": 34
        },
        "outputId": "91d21ef5-bb2a-4306-a75d-9c1ab12b3952"
      },
      "source": [
        "#before i can tell if software devs have longer or shorter trips on avarage i need the mean of them all\n",
        "trips.days_duration.mean()"
      ],
      "execution_count": 72,
      "outputs": [
        {
          "output_type": "execute_result",
          "data": {
            "text/plain": [
              "19.314468121818653"
            ]
          },
          "metadata": {
            "tags": []
          },
          "execution_count": 72
        }
      ]
    },
    {
      "cell_type": "code",
      "metadata": {
        "id": "KlV0k-VyTXdh",
        "colab_type": "code",
        "colab": {}
      },
      "source": [
        "#in order to see if software devs take shorter trips, the trips data is made to a subset with the work_raw and selected\n",
        "da_work=trips.dropna(subset=['work_raw'])\n",
        "\n",
        "work=da_work['work_raw'].str.contains('Software Dev')\n"
      ],
      "execution_count": 0,
      "outputs": []
    },
    {
      "cell_type": "code",
      "metadata": {
        "id": "6ajWqBppTbgC",
        "colab_type": "code",
        "colab": {
          "base_uri": "https://localhost:8080/",
          "height": 34
        },
        "outputId": "6fc04fef-e53b-4675-d024-9841109c0d6a"
      },
      "source": [
        "#it appears that software devs have shorter trips \n",
        "da_work[work].mean()['days_duration']"
      ],
      "execution_count": 87,
      "outputs": [
        {
          "output_type": "execute_result",
          "data": {
            "text/plain": [
              "19.19373732822708"
            ]
          },
          "metadata": {
            "tags": []
          },
          "execution_count": 87
        }
      ]
    },
    {
      "cell_type": "code",
      "metadata": {
        "id": "YgTHgi3xVGg9",
        "colab_type": "code",
        "colab": {
          "base_uri": "https://localhost:8080/",
          "height": 290
        },
        "outputId": "4b608fa3-c10a-41bb-f20a-6634cb40d711"
      },
      "source": [
        "\n",
        "\n",
        "trips['week']=trips['date_start'].dt.week\n",
        "\n",
        "data_plot=trips.groupby('week').median()['days_duration']\n",
        "plt.plot(data_plot2,)\n",
        "plt.xticks(rotation=45)\n",
        "plt.xlabel('week_number')\n",
        "plt.ylabel('duration')\n",
        "plt.show()"
      ],
      "execution_count": 94,
      "outputs": [
        {
          "output_type": "display_data",
          "data": {
            "image/png": "[encoded data removed]",
            "text/plain": [
              "<Figure size 432x288 with 1 Axes>"
            ]
          },
          "metadata": {
            "tags": []
          }
        }
      ]
    },
    {
      "cell_type": "code",
      "metadata": {
        "id": "bNLLitDEYCei",
        "colab_type": "code",
        "colab": {}
      },
      "source": [
        ""
      ],
      "execution_count": 0,
      "outputs": []
    }
  ]
}